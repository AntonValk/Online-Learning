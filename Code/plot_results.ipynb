{
 "cells": [
  {
   "cell_type": "code",
   "execution_count": 1,
   "id": "83ebd6c4-a2ab-47f5-bc4f-52203523bdd9",
   "metadata": {},
   "outputs": [],
   "source": [
    "from packaging import version\n",
    "import pandas as pd\n",
    "from matplotlib import pyplot as plt\n",
    "import seaborn as sns\n",
    "import numpy as np\n",
    "import tensorboard as tb\n",
    "import os\n",
    "\n",
    "from tensorboard.backend.event_processing import event_accumulator"
   ]
  },
  {
   "cell_type": "code",
   "execution_count": 5,
   "id": "0da54b38-169c-4eca-ae98-2012d842c0e6",
   "metadata": {},
   "outputs": [],
   "source": [
    "def summarize_experiments(dataset, filter_path = \"lightning_logs/new\"):\n",
    "    STORE_EVERYTHING_SIZE_GUIDANCE = {\n",
    "        'COMPRESSED_HISTOGRAMS': 0,\n",
    "        'IMAGES': 0,\n",
    "        'AUDIO': 0,\n",
    "        'SCALARS': 0,\n",
    "        'HISTOGRAMS': 0,\n",
    "        'TENSORS': 0,\n",
    "    }\n",
    "\n",
    "    filter_path = filter_path + \"/\" + dataset\n",
    "    result = []\n",
    "    for f in os.listdir(filter_path):\n",
    "        ea = event_accumulator.EventAccumulator(filter_path + \"/\" + f, size_guidance = STORE_EVERYTHING_SIZE_GUIDANCE)\n",
    "        ea.Reload()\n",
    "        result.append(ea.Scalars(\"train/cumulative_error_step\")[-1].value)\n",
    "    result = np.array(result)\n",
    "    return result.mean(), result.std(), result"
   ]
  },
  {
   "cell_type": "code",
   "execution_count": 55,
   "id": "1f10595e-b4b6-463f-81e6-ca419389b701",
   "metadata": {},
   "outputs": [
    {
     "data": {
      "text/plain": [
       "(283.75,\n",
       " 21.558930864029413,\n",
       " array([267., 324., 262., 270., 305., 290., 275., 293., 282., 311., 289.,\n",
       "        293., 338., 253., 275., 281., 259., 269., 267., 272.]))"
      ]
     },
     "execution_count": 55,
     "metadata": {},
     "output_type": "execute_result"
    }
   ],
   "source": [
    "summarize_experiments(\"german\")"
   ]
  },
  {
   "cell_type": "code",
   "execution_count": 56,
   "id": "6886ac98-531e-4421-b96f-6e4146e699eb",
   "metadata": {},
   "outputs": [
    {
     "name": "stdout",
     "output_type": "stream",
     "text": [
      "german\n"
     ]
    },
    {
     "data": {
      "text/plain": [
       "(283.75,\n",
       " 21.558930864029413,\n",
       " array([269., 262., 311., 324., 290., 270., 338., 259., 282., 253., 272.,\n",
       "        305., 289., 267., 293., 281., 275., 267., 293., 275.]))"
      ]
     },
     "execution_count": 56,
     "metadata": {},
     "output_type": "execute_result"
    }
   ],
   "source": [
    "print(\"german\")#0.05\n",
    "def show_results():\n",
    "    data = []\n",
    "    row = []\n",
    "    row = []\n",
    "    for seed in list(np.arange(20)):\n",
    "        row.append(pd.read_csv(\n",
    "            # f'http://127.0.0.1:6006/data/plugin/scalars/scalars?tag=train%2Fcumulative_error_step&run=model%3Dmodel.OnlineLearner-backbone%3Dmodules.SetDecoder-lr%3D0.01-width%3D100-loss%3Dtorch.nn.CrossEntropyLoss-seed%3D{seed}&format=csv'\n",
    "        f'http://127.0.0.1:6006/data/plugin/scalars/scalars?tag=train%2Fcumulative_error_step&run=model%3Dmodel.OnlineLearner-backbone%3Dmodules.Fast_AuxDrop_ODL-lr%3D0.1-width%3D50-layers%3D6-loss%3Dtorch.nn.CrossEntropyLoss-seed%3D{seed}&format=csv'\n",
    "          # http://127.0.0.1:6006/data/plugin/scalars/scalars?tag=train%2Fcumulative_error_step&run=model%3Dmodel.OnlineLearner-backbone%3Dmodules.Fast_AuxDrop_ODL-lr%3D0.1-width%3D50-layers%3D6-loss%3Dtorch.nn.CrossEntropyLoss-seed%3D2&format=csv\n",
    "        )['Value'].iloc[-1])\n",
    "    row = np.array(row)\n",
    "    return row.mean(), row.std(), row\n",
    "show_results()\n"
   ]
  },
  {
   "cell_type": "code",
   "execution_count": 73,
   "id": "56d5fdfa-c248-47cd-b016-c6249b7675e9",
   "metadata": {},
   "outputs": [
    {
     "name": "stdout",
     "output_type": "stream",
     "text": [
      "german\n"
     ]
    },
    {
     "data": {
      "text/plain": [
       "(277.65,\n",
       " 7.275128864838064,\n",
       " array([266., 283., 285., 273., 284., 270., 291., 286., 266., 283., 267.,\n",
       "        278., 274., 271., 271., 282., 285., 278., 278., 282.]))"
      ]
     },
     "execution_count": 73,
     "metadata": {},
     "output_type": "execute_result"
    }
   ],
   "source": [
    "print(\"german\")#0.001 + intercept\n",
    "def show_results():\n",
    "    data = []\n",
    "    row = []\n",
    "    row = []\n",
    "    for seed in list(np.arange(20)):\n",
    "        row.append(pd.read_csv(\n",
    "            # f'http://127.0.0.1:6006/data/plugin/scalars/scalars?tag=train%2Fcumulative_error_step&run=model%3Dmodel.OnlineLearner-backbone%3Dmodules.SetDecoder-lr%3D0.01-width%3D100-loss%3Dtorch.nn.CrossEntropyLoss-seed%3D{seed}&format=csv'\n",
    "        f'http://127.0.0.1:6006/data/plugin/scalars/scalars?tag=train%2Fcumulative_error_step&run=model%3Dmodel.OnlineLearner-backbone%3Dmodules.Fast_AuxDrop_ODL-lr%3D0.1-width%3D50-layers%3D6-loss%3Dtorch.nn.CrossEntropyLoss-seed%3D{seed}&format=csv'\n",
    "          # http://127.0.0.1:6006/data/plugin/scalars/scalars?tag=train%2Fcumulative_error_step&run=model%3Dmodel.OnlineLearner-backbone%3Dmodules.Fast_AuxDrop_ODL-lr%3D0.1-width%3D50-layers%3D6-loss%3Dtorch.nn.CrossEntropyLoss-seed%3D2&format=csv\n",
    "        )['Value'].iloc[-1])\n",
    "    row = np.array(row)\n",
    "    return row.mean(), row.std(), row\n",
    "show_results()\n"
   ]
  },
  {
   "cell_type": "code",
   "execution_count": 53,
   "id": "ac078746-0eae-4134-9808-b82e5f259d35",
   "metadata": {},
   "outputs": [
    {
     "name": "stdout",
     "output_type": "stream",
     "text": [
      "svmguide3\n"
     ]
    },
    {
     "data": {
      "text/plain": [
       "(292.7,\n",
       " 4.1844951905815355,\n",
       " array([293., 296., 290., 291., 297., 293., 303., 291., 294., 291., 295.,\n",
       "        294., 294., 299., 289., 290., 283., 292., 292., 287.]))"
      ]
     },
     "execution_count": 53,
     "metadata": {},
     "output_type": "execute_result"
    }
   ],
   "source": [
    "print(\"svmguide3\")#0.05\n",
    "def show_results():\n",
    "    data = []\n",
    "    row = []\n",
    "    row = []\n",
    "    for seed in list(np.arange(20)):\n",
    "        row.append(pd.read_csv(\n",
    "            # f'http://127.0.0.1:6006/data/plugin/scalars/scalars?tag=train%2Fcumulative_error_step&run=model%3Dmodel.OnlineLearner-backbone%3Dmodules.SetDecoder-lr%3D0.01-width%3D100-loss%3Dtorch.nn.CrossEntropyLoss-seed%3D{seed}&format=csv'\n",
    "        f'http://127.0.0.1:6006/data/plugin/scalars/scalars?tag=train%2Fcumulative_error_step&run=model%3Dmodel.OnlineLearner-backbone%3Dmodules.Fast_AuxDrop_ODL-lr%3D0.1-width%3D50-loss%3Dtorch.nn.CrossEntropyLoss-seed%3D{seed}&format=csv'\n",
    "        )['Value'].iloc[-1])\n",
    "    row = np.array(row)\n",
    "    return row.mean(), row.std(), row\n",
    "show_results()\n"
   ]
  },
  {
   "cell_type": "code",
   "execution_count": 74,
   "id": "85611b6a-5142-4796-a9f2-4bf67719ac3c",
   "metadata": {},
   "outputs": [
    {
     "name": "stdout",
     "output_type": "stream",
     "text": [
      "svmguide3\n"
     ]
    },
    {
     "data": {
      "text/plain": [
       "(291.2,\n",
       " 3.1559467676119,\n",
       " array([290., 291., 292., 292., 294., 292., 284., 292., 290., 292., 294.,\n",
       "        295., 292., 295., 294., 290., 290., 292., 291., 282.]))"
      ]
     },
     "execution_count": 74,
     "metadata": {},
     "output_type": "execute_result"
    }
   ],
   "source": [
    "print(\"svmguide3\")#0.05 + intercept\n",
    "def show_results():\n",
    "    data = []\n",
    "    row = []\n",
    "    row = []\n",
    "    for seed in list(np.arange(20)):\n",
    "        row.append(pd.read_csv(\n",
    "            # f'http://127.0.0.1:6006/data/plugin/scalars/scalars?tag=train%2Fcumulative_error_step&run=model%3Dmodel.OnlineLearner-backbone%3Dmodules.SetDecoder-lr%3D0.01-width%3D100-loss%3Dtorch.nn.CrossEntropyLoss-seed%3D{seed}&format=csv'\n",
    "        f'http://127.0.0.1:6006/data/plugin/scalars/scalars?tag=train%2Fcumulative_error_step&run=model%3Dmodel.OnlineLearner-backbone%3Dmodules.Fast_AuxDrop_ODL-lr%3D0.1-width%3D50-loss%3Dtorch.nn.CrossEntropyLoss-seed%3D{seed}&format=csv'\n",
    "        )['Value'].iloc[-1])\n",
    "    row = np.array(row)\n",
    "    return row.mean(), row.std(), row\n",
    "show_results()\n"
   ]
  },
  {
   "cell_type": "code",
   "execution_count": 70,
   "id": "e8550267-0f44-4e97-ac75-436291fcfcbe",
   "metadata": {},
   "outputs": [
    {
     "name": "stdout",
     "output_type": "stream",
     "text": [
      "magic04\n"
     ]
    },
    {
     "data": {
      "text/plain": [
       "(5460.55,\n",
       " 302.9277925512944,\n",
       " array([5122., 5651., 5738., 5759., 5284., 5723., 5496., 5878., 5480.,\n",
       "        5004., 5940., 5312., 5418., 5031., 5334., 5484., 5218., 5095.,\n",
       "        6031., 5213.]))"
      ]
     },
     "execution_count": 70,
     "metadata": {},
     "output_type": "execute_result"
    }
   ],
   "source": [
    "print(\"magic04\")#0.001\n",
    "def show_results():\n",
    "    data = []\n",
    "    row = []\n",
    "    row = []\n",
    "    for seed in list(np.arange(20)):\n",
    "        row.append(pd.read_csv(\n",
    "            # f'http://127.0.0.1:6006/data/plugin/scalars/scalars?tag=train%2Fcumulative_error_step&run=model%3Dmodel.OnlineLearner-backbone%3Dmodules.SetDecoder-lr%3D0.01-width%3D100-loss%3Dtorch.nn.CrossEntropyLoss-seed%3D{seed}&format=csv'\n",
    "        f'http://127.0.0.1:6006/data/plugin/scalars/scalars?tag=train%2Fcumulative_error_step&run=model%3Dmodel.OnlineLearner-backbone%3Dmodules.Fast_AuxDrop_ODL-lr%3D0.01-width%3D50-loss%3Dtorch.nn.CrossEntropyLoss-seed%3D{seed}&format=csv'\n",
    "        )['Value'].iloc[-1])\n",
    "    row = np.array(row)\n",
    "    return row.mean(), row.std(), row\n",
    "show_results()"
   ]
  },
  {
   "cell_type": "code",
   "execution_count": 62,
   "id": "d38cf04d-9269-476c-b83b-227b1992c404",
   "metadata": {},
   "outputs": [
    {
     "name": "stdout",
     "output_type": "stream",
     "text": [
      "magic04\n"
     ]
    },
    {
     "data": {
      "text/plain": [
       "(6134.75,\n",
       " 330.6089646394967,\n",
       " array([5836., 6264., 6082., 6253., 5881., 6708., 6007., 6558., 6064.,\n",
       "        5805., 6944., 5909., 6065., 5654., 6111., 6231., 5882., 5788.,\n",
       "        6602., 6051.]))"
      ]
     },
     "execution_count": 62,
     "metadata": {},
     "output_type": "execute_result"
    }
   ],
   "source": [
    "print(\"magic04\")#0.003\n",
    "def show_results():\n",
    "    data = []\n",
    "    row = []\n",
    "    row = []\n",
    "    for seed in list(np.arange(20)):\n",
    "        row.append(pd.read_csv(\n",
    "            # f'http://127.0.0.1:6006/data/plugin/scalars/scalars?tag=train%2Fcumulative_error_step&run=model%3Dmodel.OnlineLearner-backbone%3Dmodules.SetDecoder-lr%3D0.01-width%3D100-loss%3Dtorch.nn.CrossEntropyLoss-seed%3D{seed}&format=csv'\n",
    "        f'http://127.0.0.1:6006/data/plugin/scalars/scalars?tag=train%2Fcumulative_error_step&run=model%3Dmodel.OnlineLearner-backbone%3Dmodules.Fast_AuxDrop_ODL-lr%3D0.01-width%3D50-loss%3Dtorch.nn.CrossEntropyLoss-seed%3D{seed}&format=csv'\n",
    "        )['Value'].iloc[-1])\n",
    "    row = np.array(row)\n",
    "    return row.mean(), row.std(), row\n",
    "show_results()"
   ]
  },
  {
   "cell_type": "code",
   "execution_count": 63,
   "id": "9abe0b43-31b9-4c82-b92a-5fadd59945fb",
   "metadata": {},
   "outputs": [
    {
     "name": "stdout",
     "output_type": "stream",
     "text": [
      "magic04\n"
     ]
    },
    {
     "data": {
      "text/plain": [
       "(6092.65,\n",
       " 132.66735657274552,\n",
       " array([5968., 6307., 6086., 6223., 5990., 6112., 5962., 6340., 6187.,\n",
       "        5934., 6345., 6036., 6123., 5923., 5975., 5966., 6044., 5999.,\n",
       "        6196., 6137.]))"
      ]
     },
     "execution_count": 63,
     "metadata": {},
     "output_type": "execute_result"
    }
   ],
   "source": [
    "print(\"magic04\")#0.0005\n",
    "def show_results():\n",
    "    data = []\n",
    "    row = []\n",
    "    row = []\n",
    "    for seed in list(np.arange(20)):\n",
    "        row.append(pd.read_csv(\n",
    "            # f'http://127.0.0.1:6006/data/plugin/scalars/scalars?tag=train%2Fcumulative_error_step&run=model%3Dmodel.OnlineLearner-backbone%3Dmodules.SetDecoder-lr%3D0.01-width%3D100-loss%3Dtorch.nn.CrossEntropyLoss-seed%3D{seed}&format=csv'\n",
    "        f'http://127.0.0.1:6006/data/plugin/scalars/scalars?tag=train%2Fcumulative_error_step&run=model%3Dmodel.OnlineLearner-backbone%3Dmodules.Fast_AuxDrop_ODL-lr%3D0.01-width%3D50-loss%3Dtorch.nn.CrossEntropyLoss-seed%3D{seed}&format=csv'\n",
    "        )['Value'].iloc[-1])\n",
    "    row = np.array(row)\n",
    "    return row.mean(), row.std(), row\n",
    "show_results()"
   ]
  },
  {
   "cell_type": "code",
   "execution_count": 65,
   "id": "bb1a5ae6-c119-43b0-8932-e94e67388bed",
   "metadata": {},
   "outputs": [
    {
     "name": "stdout",
     "output_type": "stream",
     "text": [
      "magic04\n"
     ]
    },
    {
     "data": {
      "text/plain": [
       "(6070.05,\n",
       " 234.0507370208434,\n",
       " array([5887., 6248., 6064., 6247., 5917., 6314., 5947., 6399., 6086.,\n",
       "        5873., 6598., 5988., 6087., 5511., 5963., 5988., 5985., 5872.,\n",
       "        6371., 6056.]))"
      ]
     },
     "execution_count": 65,
     "metadata": {},
     "output_type": "execute_result"
    }
   ],
   "source": [
    "print(\"magic04\")#0.001\n",
    "def show_results():\n",
    "    data = []\n",
    "    row = []\n",
    "    row = []\n",
    "    for seed in list(np.arange(20)):\n",
    "        row.append(pd.read_csv(\n",
    "            # f'http://127.0.0.1:6006/data/plugin/scalars/scalars?tag=train%2Fcumulative_error_step&run=model%3Dmodel.OnlineLearner-backbone%3Dmodules.SetDecoder-lr%3D0.01-width%3D100-loss%3Dtorch.nn.CrossEntropyLoss-seed%3D{seed}&format=csv'\n",
    "        f'http://127.0.0.1:6006/data/plugin/scalars/scalars?tag=train%2Fcumulative_error_step&run=model%3Dmodel.OnlineLearner-backbone%3Dmodules.Fast_AuxDrop_ODL-lr%3D0.01-width%3D50-loss%3Dtorch.nn.CrossEntropyLoss-seed%3D{seed}&format=csv'\n",
    "        )['Value'].iloc[-1])\n",
    "    row = np.array(row)\n",
    "    return row.mean(), row.std(), row\n",
    "show_results()"
   ]
  },
  {
   "cell_type": "code",
   "execution_count": 67,
   "id": "5b025546-ccf9-49cf-829f-8317390b5d4c",
   "metadata": {},
   "outputs": [
    {
     "name": "stdout",
     "output_type": "stream",
     "text": [
      "a8a\n"
     ]
    },
    {
     "data": {
      "text/plain": [
       "(5719.7,\n",
       " 84.88409745058257,\n",
       " array([5718., 5626., 5658., 5616., 5799., 5837., 5722., 5843., 5649.,\n",
       "        5583., 5815., 5671., 5689., 5741., 5695., 5835., 5805., 5606.,\n",
       "        5660., 5826.]))"
      ]
     },
     "execution_count": 67,
     "metadata": {},
     "output_type": "execute_result"
    }
   ],
   "source": [
    "print(\"a8a\")\n",
    "show_results()"
   ]
  },
  {
   "cell_type": "code",
   "execution_count": 78,
   "id": "25c91214-4cd6-4124-8117-5a0821906c50",
   "metadata": {},
   "outputs": [
    {
     "name": "stdout",
     "output_type": "stream",
     "text": [
      "a8a\n"
     ]
    },
    {
     "data": {
      "text/plain": [
       "(5804.7,\n",
       " 90.37538381661237,\n",
       " array([5830., 5711., 5784., 5643., 5891., 5931., 5813., 5891., 5714.,\n",
       "        5725., 5922., 5786., 5714., 5829., 5761., 5963., 5812., 5734.,\n",
       "        5705., 5935.]))"
      ]
     },
     "execution_count": 78,
     "metadata": {},
     "output_type": "execute_result"
    }
   ],
   "source": [
    "print(\"a8a\")#0.01\n",
    "def show_results():\n",
    "    data = []\n",
    "    row = []\n",
    "    row = []\n",
    "    for seed in list(np.arange(20)):\n",
    "        row.append(pd.read_csv(\n",
    "            # f'http://127.0.0.1:6006/data/plugin/scalars/scalars?tag=train%2Fcumulative_error_step&run=model%3Dmodel.OnlineLearner-backbone%3Dmodules.SetDecoder-lr%3D0.01-width%3D100-loss%3Dtorch.nn.CrossEntropyLoss-seed%3D{seed}&format=csv'\n",
    "        f'http://127.0.0.1:6006/data/plugin/scalars/scalars?tag=train%2Fcumulative_error_step&run=model%3Dmodel.OnlineLearner-backbone%3Dmodules.Fast_AuxDrop_ODL-lr%3D0.01-width%3D50-loss%3Dtorch.nn.CrossEntropyLoss-seed%3D{seed}&format=csv'\n",
    "        )['Value'].iloc[-1])\n",
    "    row = np.array(row)\n",
    "    return row.mean(), row.std(), row\n",
    "show_results()"
   ]
  },
  {
   "cell_type": "code",
   "execution_count": 71,
   "id": "23f3dc4d-eeae-45fe-9346-0422295e2793",
   "metadata": {},
   "outputs": [
    {
     "name": "stdout",
     "output_type": "stream",
     "text": [
      "      average error  error std\n",
      "p                             \n",
      "0.01       316588.0        0.0\n",
      "0.05       315659.0        0.0\n",
      "0.10       313945.0        0.0\n",
      "0.20       310320.0        0.0\n",
      "0.30       306716.0        0.0\n",
      "0.40       300404.0        0.0\n",
      "0.50       295790.0        0.0\n",
      "0.60       288643.0        0.0\n",
      "0.70       280213.0        0.0\n",
      "0.80       270755.0        0.0\n",
      "0.90       261204.0        0.0\n",
      "0.95       256961.0        0.0\n",
      "0.99       253382.0        0.0\n"
     ]
    }
   ],
   "source": [
    "def show_results(dataset):\n",
    "    vals = [0.01, 0.05, 0.1, 0.2, 0.3, 0.4, 0.5, 0.6, 0.7, 0.8, 0.9, 0.95, 0.99]\n",
    "    data = []\n",
    "    row = []\n",
    "    for p_val in vals:\n",
    "        row = []\n",
    "        for seed in [0,1,2,3,4]:\n",
    "            row.append(pd.read_csv(\n",
    "                f'http://127.0.0.1:6006/data/plugin/scalars/scalars?tag=train%2Fcumulative_error_step&run=model%3Dmodel.OnlineLearner-backbone%3Dmodules.Fast_AuxDrop_ODL-lr%3D0.05-width%3D50-loss%3Dtorch.nn.CrossEntropyLoss-seed%3D{seed}-missingness%3D{p_val}&format=csv'\n",
    "            )['Value'].iloc[-1])\n",
    "        data.append([p_val, np.array(row).mean(), np.array(row).std()])\n",
    "    results = pd.DataFrame(data, columns=[\"p\", \"average error\", \"error std\"])\n",
    "    results = results.set_index(\"p\")\n",
    "    print(results)    \n",
    "show_results(None)"
   ]
  },
  {
   "cell_type": "code",
   "execution_count": 36,
   "id": "f581889d-59e6-4d2a-9745-b208b19d9d7c",
   "metadata": {},
   "outputs": [
    {
     "name": "stdout",
     "output_type": "stream",
     "text": [
      "HIGGS\n",
      "      average error  error std\n",
      "p                             \n",
      "0.01       470291.0        0.0\n",
      "0.05       476204.0        0.0\n",
      "0.10       472293.0        0.0\n",
      "0.20       473606.0        0.0\n",
      "0.30       476337.0        0.0\n",
      "0.40       472141.0        0.0\n",
      "0.50       465091.0        0.0\n",
      "0.60       462509.0        0.0\n",
      "0.70       467261.0        0.0\n",
      "0.80       457393.0        0.0\n",
      "0.90       453302.0        0.0\n",
      "0.95       450284.0        0.0\n",
      "0.99       449178.0        0.0\n"
     ]
    }
   ],
   "source": [
    "print(\"HIGGS\")\n",
    "show_results(None)"
   ]
  },
  {
   "cell_type": "code",
   "execution_count": 81,
   "id": "df1c2b17-1b1c-412a-9ba0-c3418567ed8f",
   "metadata": {},
   "outputs": [],
   "source": [
    "test = pd.read_csv(\n",
    "    'http://127.0.0.1:6006/data/plugin/scalars/scalars?tag=train%2Fcumulative_error_step&run=model%3Dmodel.OnlineLearner-backbone%3Dmodules.Fast_AuxDrop_ODL-lr%3D0.05-width%3D50-loss%3Dtorch.nn.CrossEntropyLoss-seed%3D4-missingness%3D0.4&format=csv'\n",
    ")"
   ]
  },
  {
   "cell_type": "code",
   "execution_count": 82,
   "id": "7bd5bcda-20d4-41fd-97c4-2eb6468f1397",
   "metadata": {},
   "outputs": [
    {
     "data": {
      "text/html": [
       "<div>\n",
       "<style scoped>\n",
       "    .dataframe tbody tr th:only-of-type {\n",
       "        vertical-align: middle;\n",
       "    }\n",
       "\n",
       "    .dataframe tbody tr th {\n",
       "        vertical-align: top;\n",
       "    }\n",
       "\n",
       "    .dataframe thead th {\n",
       "        text-align: right;\n",
       "    }\n",
       "</style>\n",
       "<table border=\"1\" class=\"dataframe\">\n",
       "  <thead>\n",
       "    <tr style=\"text-align: right;\">\n",
       "      <th></th>\n",
       "      <th>Wall time</th>\n",
       "      <th>Step</th>\n",
       "      <th>Value</th>\n",
       "    </tr>\n",
       "  </thead>\n",
       "  <tbody>\n",
       "    <tr>\n",
       "      <th>0</th>\n",
       "      <td>1.706810e+09</td>\n",
       "      <td>1132</td>\n",
       "      <td>485.0</td>\n",
       "    </tr>\n",
       "    <tr>\n",
       "      <th>1</th>\n",
       "      <td>1.706810e+09</td>\n",
       "      <td>5295</td>\n",
       "      <td>1782.0</td>\n",
       "    </tr>\n",
       "    <tr>\n",
       "      <th>2</th>\n",
       "      <td>1.706810e+09</td>\n",
       "      <td>5454</td>\n",
       "      <td>1819.0</td>\n",
       "    </tr>\n",
       "    <tr>\n",
       "      <th>3</th>\n",
       "      <td>1.706810e+09</td>\n",
       "      <td>5832</td>\n",
       "      <td>1916.0</td>\n",
       "    </tr>\n",
       "    <tr>\n",
       "      <th>4</th>\n",
       "      <td>1.706810e+09</td>\n",
       "      <td>5997</td>\n",
       "      <td>1967.0</td>\n",
       "    </tr>\n",
       "    <tr>\n",
       "      <th>...</th>\n",
       "      <td>...</td>\n",
       "      <td>...</td>\n",
       "      <td>...</td>\n",
       "    </tr>\n",
       "    <tr>\n",
       "      <th>995</th>\n",
       "      <td>1.706846e+09</td>\n",
       "      <td>990883</td>\n",
       "      <td>259621.0</td>\n",
       "    </tr>\n",
       "    <tr>\n",
       "      <th>996</th>\n",
       "      <td>1.706847e+09</td>\n",
       "      <td>994960</td>\n",
       "      <td>260686.0</td>\n",
       "    </tr>\n",
       "    <tr>\n",
       "      <th>997</th>\n",
       "      <td>1.706847e+09</td>\n",
       "      <td>997501</td>\n",
       "      <td>261362.0</td>\n",
       "    </tr>\n",
       "    <tr>\n",
       "      <th>998</th>\n",
       "      <td>1.706847e+09</td>\n",
       "      <td>998351</td>\n",
       "      <td>261596.0</td>\n",
       "    </tr>\n",
       "    <tr>\n",
       "      <th>999</th>\n",
       "      <td>1.706847e+09</td>\n",
       "      <td>999999</td>\n",
       "      <td>262072.0</td>\n",
       "    </tr>\n",
       "  </tbody>\n",
       "</table>\n",
       "<p>1000 rows × 3 columns</p>\n",
       "</div>"
      ],
      "text/plain": [
       "        Wall time    Step     Value\n",
       "0    1.706810e+09    1132     485.0\n",
       "1    1.706810e+09    5295    1782.0\n",
       "2    1.706810e+09    5454    1819.0\n",
       "3    1.706810e+09    5832    1916.0\n",
       "4    1.706810e+09    5997    1967.0\n",
       "..            ...     ...       ...\n",
       "995  1.706846e+09  990883  259621.0\n",
       "996  1.706847e+09  994960  260686.0\n",
       "997  1.706847e+09  997501  261362.0\n",
       "998  1.706847e+09  998351  261596.0\n",
       "999  1.706847e+09  999999  262072.0\n",
       "\n",
       "[1000 rows x 3 columns]"
      ]
     },
     "execution_count": 82,
     "metadata": {},
     "output_type": "execute_result"
    }
   ],
   "source": [
    "test.head(1000)"
   ]
  },
  {
   "cell_type": "code",
   "execution_count": 85,
   "id": "d4d9e8d3-154b-4072-a67f-60be05490657",
   "metadata": {},
   "outputs": [],
   "source": [
    "def show_results(dataset):\n",
    "    vals = [0.01, 0.05, 0.1, 0.2, 0.3, 0.4, 0.5, 0.6, 0.7, 0.8, 0.9, 0.95, 0.99]\n",
    "    data = []\n",
    "    row = []\n",
    "    for p_val in vals:\n",
    "        row = []\n",
    "        for seed in [0,1,2,3,4]:\n",
    "            row.append(pd.read_csv(\n",
    "                f'http://127.0.0.1:6006/data/plugin/scalars/scalars?tag=train%2Fcumulative_error_step&run=model%3Dmodel.OnlineLearner-backbone%3Dmodules.Fast_AuxDrop_ODL-lr%3D0.05-width%3D50-loss%3Dtorch.nn.CrossEntropyLoss-seed%3D{seed}-missingness%3D{p_val}&format=csv'\n",
    "            )['Value'].iloc[-1])\n",
    "        data.append([p_val, np.array(row).mean(), np.array(row).std()])\n",
    "    results = pd.DataFrame(data, columns=[\"p\", \"average error\", \"error std\"])\n",
    "    results = results.set_index(\"p\")\n",
    "    print(results)    "
   ]
  },
  {
   "cell_type": "code",
   "execution_count": 79,
   "id": "22121430-e6f8-4856-ab9e-f9b88ee480fd",
   "metadata": {},
   "outputs": [
    {
     "name": "stdout",
     "output_type": "stream",
     "text": [
      "      average error   error std\n",
      "p                              \n",
      "0.01       439977.6  133.051268\n",
      "0.05       440234.6  313.658158\n",
      "0.10       439736.4  250.971393\n",
      "0.20       438486.6  354.127435\n",
      "0.30       435186.4  329.575849\n",
      "0.40       432170.4  479.690567\n",
      "0.50       427781.0  501.010978\n",
      "0.60       423339.8  409.822108\n",
      "0.70       418580.4  665.416742\n",
      "0.80       412228.6  945.120648\n",
      "0.90       405571.4  835.264892\n",
      "0.95       398839.8  334.294122\n",
      "0.99       391420.8  754.447453\n"
     ]
    }
   ],
   "source": [
    "show_results(None)"
   ]
  },
  {
   "cell_type": "code",
   "execution_count": 86,
   "id": "0afb7958-ab5c-4e43-9fcf-ebf70988f705",
   "metadata": {},
   "outputs": [
    {
     "name": "stdout",
     "output_type": "stream",
     "text": [
      "      average error    error std\n",
      "p                               \n",
      "0.01       284955.8    59.549643\n",
      "0.05       283392.0   243.347488\n",
      "0.10       280829.4   688.131557\n",
      "0.20       274649.2   580.393453\n",
      "0.30       269082.4   804.188436\n",
      "0.40       262420.0   718.071863\n",
      "0.50       256675.8   884.257745\n",
      "0.60       250172.8  1085.640530\n",
      "0.70       243775.6   892.670734\n",
      "0.80       237120.0   805.492148\n",
      "0.90       230180.0   769.257044\n",
      "0.95       226248.4   469.163340\n",
      "0.99       222396.6   244.433713\n"
     ]
    }
   ],
   "source": [
    "show_results(None)"
   ]
  },
  {
   "cell_type": "code",
   "execution_count": 8,
   "id": "02c62e61-4912-484e-95f2-0fc77bfa8e48",
   "metadata": {},
   "outputs": [],
   "source": [
    "# def summarize_big_experiment(dataset, filter_path = \"lightning_logs/new\"):\n",
    "#     # missingness = [0.01,0.05,0.1,0.2,0.3,0.4,0.5,0.6,0.7,0.8,0.9,0.95,0.99]\n",
    "#     missingness = [0.8]\n",
    "#     seeds = [0,1,2,3,4]\n",
    "#     filter_path = filter_path + \"/\" + dataset\n",
    "#     result = []\n",
    "#     for m in missingness:\n",
    "#         for f in os.listdir(filter_path):\n",
    "#             if str(\"missingness=\" + str(m)) in f:\n",
    "#                 ea = event_accumulator.EventAccumulator(filter_path + \"/\" + f)\n",
    "#                 ea.Reload()\n",
    "#                 result.append(ea.Scalars(\"train/cumulative_error_step\")[-1].value)\n",
    "#     result = np.array(result)\n",
    "#     return result.mean(), result.std()"
   ]
  },
  {
   "cell_type": "code",
   "execution_count": 9,
   "id": "e3944f6f-a079-4c72-8e8b-4a9908f4b743",
   "metadata": {},
   "outputs": [
    {
     "ename": "DirectoryDeletedError",
     "evalue": "Directory lightning_logs/new/HIGGS/model=model.OnlineLearner-backbone=modules.Fast_AuxDrop_ODL-lr=0.05-width=50-loss=torch.nn.CrossEntropyLoss-seed=2-missingness=0.8 has been permanently deleted",
     "output_type": "error",
     "traceback": [
      "\u001b[0;31m---------------------------------------------------------------------------\u001b[0m",
      "\u001b[0;31mNotFoundError\u001b[0m                             Traceback (most recent call last)",
      "File \u001b[0;32m/opt/conda/lib/python3.9/site-packages/tensorboard/backend/event_processing/directory_watcher.py:88\u001b[0m, in \u001b[0;36mDirectoryWatcher.Load\u001b[0;34m(self)\u001b[0m\n\u001b[1;32m     87\u001b[0m \u001b[38;5;28;01mtry\u001b[39;00m:\n\u001b[0;32m---> 88\u001b[0m     \u001b[38;5;28;01mfor\u001b[39;00m event \u001b[38;5;129;01min\u001b[39;00m \u001b[38;5;28mself\u001b[39m\u001b[38;5;241m.\u001b[39m_LoadInternal():\n\u001b[1;32m     89\u001b[0m         \u001b[38;5;28;01myield\u001b[39;00m event\n",
      "File \u001b[0;32m/opt/conda/lib/python3.9/site-packages/tensorboard/backend/event_processing/directory_watcher.py:118\u001b[0m, in \u001b[0;36mDirectoryWatcher._LoadInternal\u001b[0;34m(self)\u001b[0m\n\u001b[1;32m    116\u001b[0m \u001b[38;5;28;01mwhile\u001b[39;00m \u001b[38;5;28;01mTrue\u001b[39;00m:\n\u001b[1;32m    117\u001b[0m     \u001b[38;5;66;03m# Yield all the new events in the path we're currently loading from.\u001b[39;00m\n\u001b[0;32m--> 118\u001b[0m     \u001b[38;5;28;01mfor\u001b[39;00m event \u001b[38;5;129;01min\u001b[39;00m \u001b[38;5;28mself\u001b[39m\u001b[38;5;241m.\u001b[39m_loader\u001b[38;5;241m.\u001b[39mLoad():\n\u001b[1;32m    119\u001b[0m         \u001b[38;5;28;01myield\u001b[39;00m event\n",
      "File \u001b[0;32m/opt/conda/lib/python3.9/site-packages/tensorboard/backend/event_processing/event_file_loader.py:244\u001b[0m, in \u001b[0;36mLegacyEventFileLoader.Load\u001b[0;34m(self)\u001b[0m\n\u001b[1;32m    236\u001b[0m \u001b[38;5;250m\u001b[39m\u001b[38;5;124;03m\"\"\"Loads all new events from disk.\u001b[39;00m\n\u001b[1;32m    237\u001b[0m \n\u001b[1;32m    238\u001b[0m \u001b[38;5;124;03mCalling Load multiple times in a row will not 'drop' events as long as the\u001b[39;00m\n\u001b[0;32m   (...)\u001b[0m\n\u001b[1;32m    242\u001b[0m \u001b[38;5;124;03m  All events in the file that have not been yielded yet.\u001b[39;00m\n\u001b[1;32m    243\u001b[0m \u001b[38;5;124;03m\"\"\"\u001b[39;00m\n\u001b[0;32m--> 244\u001b[0m \u001b[38;5;28;01mfor\u001b[39;00m record \u001b[38;5;129;01min\u001b[39;00m \u001b[38;5;28msuper\u001b[39m(LegacyEventFileLoader, \u001b[38;5;28mself\u001b[39m)\u001b[38;5;241m.\u001b[39mLoad():\n\u001b[1;32m    245\u001b[0m     \u001b[38;5;28;01myield\u001b[39;00m event_pb2\u001b[38;5;241m.\u001b[39mEvent\u001b[38;5;241m.\u001b[39mFromString(record)\n",
      "File \u001b[0;32m/opt/conda/lib/python3.9/site-packages/tensorboard/backend/event_processing/event_file_loader.py:178\u001b[0m, in \u001b[0;36mRawEventFileLoader.Load\u001b[0;34m(self)\u001b[0m\n\u001b[1;32m    177\u001b[0m \u001b[38;5;28;01mtry\u001b[39;00m:\n\u001b[0;32m--> 178\u001b[0m     \u001b[38;5;28;01myield\u001b[39;00m \u001b[38;5;28;43mnext\u001b[39;49m\u001b[43m(\u001b[49m\u001b[38;5;28;43mself\u001b[39;49m\u001b[38;5;241;43m.\u001b[39;49m\u001b[43m_iterator\u001b[49m\u001b[43m)\u001b[49m\n\u001b[1;32m    179\u001b[0m \u001b[38;5;28;01mexcept\u001b[39;00m \u001b[38;5;167;01mStopIteration\u001b[39;00m:\n",
      "File \u001b[0;32m/opt/conda/lib/python3.9/site-packages/tensorboard/backend/event_processing/event_file_loader.py:109\u001b[0m, in \u001b[0;36m_PyRecordReaderIterator.__next__\u001b[0;34m(self)\u001b[0m\n\u001b[1;32m    108\u001b[0m \u001b[38;5;28;01mtry\u001b[39;00m:\n\u001b[0;32m--> 109\u001b[0m     \u001b[38;5;28;43mself\u001b[39;49m\u001b[38;5;241;43m.\u001b[39;49m\u001b[43m_reader\u001b[49m\u001b[38;5;241;43m.\u001b[39;49m\u001b[43mGetNext\u001b[49m\u001b[43m(\u001b[49m\u001b[43m)\u001b[49m\n\u001b[1;32m    110\u001b[0m \u001b[38;5;28;01mexcept\u001b[39;00m tf\u001b[38;5;241m.\u001b[39merrors\u001b[38;5;241m.\u001b[39mOutOfRangeError \u001b[38;5;28;01mas\u001b[39;00m e:\n",
      "File \u001b[0;32m/opt/conda/lib/python3.9/site-packages/tensorboard/compat/tensorflow_stub/pywrap_tensorflow.py:230\u001b[0m, in \u001b[0;36mPyRecordReader_New.GetNext\u001b[0;34m(self)\u001b[0m\n\u001b[1;32m    229\u001b[0m header_len \u001b[38;5;241m=\u001b[39m \u001b[38;5;28mint\u001b[39m(header[\u001b[38;5;241m0\u001b[39m])\n\u001b[0;32m--> 230\u001b[0m event_str \u001b[38;5;241m=\u001b[39m \u001b[38;5;28;43mself\u001b[39;49m\u001b[38;5;241;43m.\u001b[39;49m\u001b[43m_read\u001b[49m\u001b[43m(\u001b[49m\u001b[43mheader_len\u001b[49m\u001b[43m)\u001b[49m\n\u001b[1;32m    231\u001b[0m \u001b[38;5;28;01mif\u001b[39;00m \u001b[38;5;28mlen\u001b[39m(event_str) \u001b[38;5;241m<\u001b[39m header_len:\n",
      "File \u001b[0;32m/opt/conda/lib/python3.9/site-packages/tensorboard/compat/tensorflow_stub/pywrap_tensorflow.py:273\u001b[0m, in \u001b[0;36mPyRecordReader_New._read\u001b[0;34m(self, n)\u001b[0m\n\u001b[1;32m    272\u001b[0m \u001b[38;5;28;01mif\u001b[39;00m n \u001b[38;5;241m>\u001b[39m \u001b[38;5;241m0\u001b[39m:\n\u001b[0;32m--> 273\u001b[0m     new_data \u001b[38;5;241m=\u001b[39m \u001b[38;5;28;43mself\u001b[39;49m\u001b[38;5;241;43m.\u001b[39;49m\u001b[43mfile_handle\u001b[49m\u001b[38;5;241;43m.\u001b[39;49m\u001b[43mread\u001b[49m\u001b[43m(\u001b[49m\u001b[43mn\u001b[49m\u001b[43m)\u001b[49m\n\u001b[1;32m    274\u001b[0m     result \u001b[38;5;241m+\u001b[39m\u001b[38;5;241m=\u001b[39m new_data\n",
      "File \u001b[0;32m/opt/conda/lib/python3.9/site-packages/tensorboard/compat/tensorflow_stub/io/gfile.py:727\u001b[0m, in \u001b[0;36mGFile.read\u001b[0;34m(self, n)\u001b[0m\n\u001b[1;32m    726\u001b[0m read_size \u001b[38;5;241m=\u001b[39m \u001b[38;5;28mmax\u001b[39m(\u001b[38;5;28mself\u001b[39m\u001b[38;5;241m.\u001b[39mbuff_chunk_size, n) \u001b[38;5;28;01mif\u001b[39;00m n \u001b[38;5;129;01mis\u001b[39;00m \u001b[38;5;129;01mnot\u001b[39;00m \u001b[38;5;28;01mNone\u001b[39;00m \u001b[38;5;28;01melse\u001b[39;00m \u001b[38;5;28;01mNone\u001b[39;00m\n\u001b[0;32m--> 727\u001b[0m (\u001b[38;5;28mself\u001b[39m\u001b[38;5;241m.\u001b[39mbuff, \u001b[38;5;28mself\u001b[39m\u001b[38;5;241m.\u001b[39mcontinuation_token) \u001b[38;5;241m=\u001b[39m \u001b[38;5;28;43mself\u001b[39;49m\u001b[38;5;241;43m.\u001b[39;49m\u001b[43mfs\u001b[49m\u001b[38;5;241;43m.\u001b[39;49m\u001b[43mread\u001b[49m\u001b[43m(\u001b[49m\n\u001b[1;32m    728\u001b[0m \u001b[43m    \u001b[49m\u001b[38;5;28;43mself\u001b[39;49m\u001b[38;5;241;43m.\u001b[39;49m\u001b[43mfilename\u001b[49m\u001b[43m,\u001b[49m\u001b[43m \u001b[49m\u001b[38;5;28;43mself\u001b[39;49m\u001b[38;5;241;43m.\u001b[39;49m\u001b[43mbinary_mode\u001b[49m\u001b[43m,\u001b[49m\u001b[43m \u001b[49m\u001b[43mread_size\u001b[49m\u001b[43m,\u001b[49m\u001b[43m \u001b[49m\u001b[38;5;28;43mself\u001b[39;49m\u001b[38;5;241;43m.\u001b[39;49m\u001b[43mcontinuation_token\u001b[49m\n\u001b[1;32m    729\u001b[0m \u001b[43m\u001b[49m\u001b[43m)\u001b[49m\n\u001b[1;32m    730\u001b[0m \u001b[38;5;28mself\u001b[39m\u001b[38;5;241m.\u001b[39mbuff_offset \u001b[38;5;241m=\u001b[39m \u001b[38;5;241m0\u001b[39m\n",
      "File \u001b[0;32m/opt/conda/lib/python3.9/site-packages/tensorboard/compat/tensorflow_stub/io/gfile.py:125\u001b[0m, in \u001b[0;36mLocalFileSystem.read\u001b[0;34m(self, filename, binary_mode, size, continue_from)\u001b[0m\n\u001b[1;32m    124\u001b[0m \u001b[38;5;28;01mif\u001b[39;00m \u001b[38;5;129;01mnot\u001b[39;00m exists(filename):\n\u001b[0;32m--> 125\u001b[0m     \u001b[38;5;28;01mraise\u001b[39;00m errors\u001b[38;5;241m.\u001b[39mNotFoundError(\n\u001b[1;32m    126\u001b[0m         \u001b[38;5;28;01mNone\u001b[39;00m, \u001b[38;5;28;01mNone\u001b[39;00m, \u001b[38;5;124m\"\u001b[39m\u001b[38;5;124mNot Found: \u001b[39m\u001b[38;5;124m\"\u001b[39m \u001b[38;5;241m+\u001b[39m compat\u001b[38;5;241m.\u001b[39mas_text(filename)\n\u001b[1;32m    127\u001b[0m     )\n\u001b[1;32m    128\u001b[0m offset \u001b[38;5;241m=\u001b[39m \u001b[38;5;28;01mNone\u001b[39;00m\n",
      "\u001b[0;31mNotFoundError\u001b[0m: Not Found: lightning_logs/new/HIGGS/model=model.OnlineLearner-backbone=modules.Fast_AuxDrop_ODL-lr=0.05-width=50-loss=torch.nn.CrossEntropyLoss-seed=2-missingness=0.8/events.out.tfevents.1706636347.80d160b50e46.5098.0",
      "\nDuring handling of the above exception, another exception occurred:\n",
      "\u001b[0;31mDirectoryDeletedError\u001b[0m                     Traceback (most recent call last)",
      "Cell \u001b[0;32mIn[9], line 1\u001b[0m\n\u001b[0;32m----> 1\u001b[0m \u001b[43msummarize_big_experiment\u001b[49m\u001b[43m(\u001b[49m\u001b[38;5;124;43m\"\u001b[39;49m\u001b[38;5;124;43mHIGGS\u001b[39;49m\u001b[38;5;124;43m\"\u001b[39;49m\u001b[43m)\u001b[49m\n",
      "Cell \u001b[0;32mIn[8], line 11\u001b[0m, in \u001b[0;36msummarize_big_experiment\u001b[0;34m(dataset, filter_path)\u001b[0m\n\u001b[1;32m      9\u001b[0m         \u001b[38;5;28;01mif\u001b[39;00m \u001b[38;5;28mstr\u001b[39m(\u001b[38;5;124m\"\u001b[39m\u001b[38;5;124mmissingness=\u001b[39m\u001b[38;5;124m\"\u001b[39m \u001b[38;5;241m+\u001b[39m \u001b[38;5;28mstr\u001b[39m(m)) \u001b[38;5;129;01min\u001b[39;00m f:\n\u001b[1;32m     10\u001b[0m             ea \u001b[38;5;241m=\u001b[39m event_accumulator\u001b[38;5;241m.\u001b[39mEventAccumulator(filter_path \u001b[38;5;241m+\u001b[39m \u001b[38;5;124m\"\u001b[39m\u001b[38;5;124m/\u001b[39m\u001b[38;5;124m\"\u001b[39m \u001b[38;5;241m+\u001b[39m f)\n\u001b[0;32m---> 11\u001b[0m             \u001b[43mea\u001b[49m\u001b[38;5;241;43m.\u001b[39;49m\u001b[43mReload\u001b[49m\u001b[43m(\u001b[49m\u001b[43m)\u001b[49m\n\u001b[1;32m     12\u001b[0m             result\u001b[38;5;241m.\u001b[39mappend(ea\u001b[38;5;241m.\u001b[39mScalars(\u001b[38;5;124m\"\u001b[39m\u001b[38;5;124mtrain/cumulative_error_step\u001b[39m\u001b[38;5;124m\"\u001b[39m)[\u001b[38;5;241m-\u001b[39m\u001b[38;5;241m1\u001b[39m]\u001b[38;5;241m.\u001b[39mvalue)\n\u001b[1;32m     13\u001b[0m result \u001b[38;5;241m=\u001b[39m np\u001b[38;5;241m.\u001b[39marray(result)\n",
      "File \u001b[0;32m/opt/conda/lib/python3.9/site-packages/tensorboard/backend/event_processing/event_accumulator.py:246\u001b[0m, in \u001b[0;36mEventAccumulator.Reload\u001b[0;34m(self)\u001b[0m\n\u001b[1;32m    238\u001b[0m \u001b[38;5;250m\u001b[39m\u001b[38;5;124;03m\"\"\"Loads all events added since the last call to `Reload`.\u001b[39;00m\n\u001b[1;32m    239\u001b[0m \n\u001b[1;32m    240\u001b[0m \u001b[38;5;124;03mIf `Reload` was never called, loads all events in the file.\u001b[39;00m\n\u001b[0;32m   (...)\u001b[0m\n\u001b[1;32m    243\u001b[0m \u001b[38;5;124;03m  The `EventAccumulator`.\u001b[39;00m\n\u001b[1;32m    244\u001b[0m \u001b[38;5;124;03m\"\"\"\u001b[39;00m\n\u001b[1;32m    245\u001b[0m \u001b[38;5;28;01mwith\u001b[39;00m \u001b[38;5;28mself\u001b[39m\u001b[38;5;241m.\u001b[39m_generator_mutex:\n\u001b[0;32m--> 246\u001b[0m     \u001b[38;5;28;01mfor\u001b[39;00m event \u001b[38;5;129;01min\u001b[39;00m \u001b[38;5;28mself\u001b[39m\u001b[38;5;241m.\u001b[39m_generator\u001b[38;5;241m.\u001b[39mLoad():\n\u001b[1;32m    247\u001b[0m         \u001b[38;5;28mself\u001b[39m\u001b[38;5;241m.\u001b[39m_ProcessEvent(event)\n\u001b[1;32m    248\u001b[0m \u001b[38;5;28;01mreturn\u001b[39;00m \u001b[38;5;28mself\u001b[39m\n",
      "File \u001b[0;32m/opt/conda/lib/python3.9/site-packages/tensorboard/backend/event_processing/directory_watcher.py:92\u001b[0m, in \u001b[0;36mDirectoryWatcher.Load\u001b[0;34m(self)\u001b[0m\n\u001b[1;32m     90\u001b[0m \u001b[38;5;28;01mexcept\u001b[39;00m tf\u001b[38;5;241m.\u001b[39merrors\u001b[38;5;241m.\u001b[39mOpError:\n\u001b[1;32m     91\u001b[0m     \u001b[38;5;28;01mif\u001b[39;00m \u001b[38;5;129;01mnot\u001b[39;00m tf\u001b[38;5;241m.\u001b[39mio\u001b[38;5;241m.\u001b[39mgfile\u001b[38;5;241m.\u001b[39mexists(\u001b[38;5;28mself\u001b[39m\u001b[38;5;241m.\u001b[39m_directory):\n\u001b[0;32m---> 92\u001b[0m         \u001b[38;5;28;01mraise\u001b[39;00m DirectoryDeletedError(\n\u001b[1;32m     93\u001b[0m             \u001b[38;5;124m\"\u001b[39m\u001b[38;5;124mDirectory \u001b[39m\u001b[38;5;132;01m%s\u001b[39;00m\u001b[38;5;124m has been permanently deleted\u001b[39m\u001b[38;5;124m\"\u001b[39m\n\u001b[1;32m     94\u001b[0m             \u001b[38;5;241m%\u001b[39m \u001b[38;5;28mself\u001b[39m\u001b[38;5;241m.\u001b[39m_directory\n\u001b[1;32m     95\u001b[0m         )\n",
      "\u001b[0;31mDirectoryDeletedError\u001b[0m: Directory lightning_logs/new/HIGGS/model=model.OnlineLearner-backbone=modules.Fast_AuxDrop_ODL-lr=0.05-width=50-loss=torch.nn.CrossEntropyLoss-seed=2-missingness=0.8 has been permanently deleted"
     ]
    }
   ],
   "source": [
    "# summarize_big_experiment(\"HIGGS\")"
   ]
  },
  {
   "cell_type": "code",
   "execution_count": 111,
   "id": "68ff2607-78a5-4ade-a69c-bbad5f171abd",
   "metadata": {},
   "outputs": [],
   "source": [
    "def show_results():\n",
    "    vals = [0.2,0.5,0.9,0.95]\n",
    "    data = []\n",
    "    row = []\n",
    "    for p_val in vals:\n",
    "        row = []\n",
    "        for seed in [0,1,2,3,4]:\n",
    "            row.append(pd.read_csv(\n",
    "                f'http://127.0.0.1:6006/data/plugin/scalars/scalars?tag=train%2Fcumulative_error_step&run=model%3Dmodel.AlphaExperiment-backbone%3Dmodules.Fast_AuxDrop_ODL-lr%3D0.05-width%3D50-loss%3Dtorch.nn.CrossEntropyLoss-seed%3D{seed}-missingness%3D{p_val}&format=csv'\n",
    "            )['Value'].iloc[-1])\n",
    "        data.append([p_val, np.array(row).mean(), np.array(row).std()])\n",
    "    results = pd.DataFrame(data, columns=[\"p\", \"average error\", \"error std\"])\n",
    "    results = results.set_index(\"p\")\n",
    "    return results    "
   ]
  },
  {
   "cell_type": "code",
   "execution_count": 112,
   "id": "1a679521-d9ea-4558-bd45-0effb625c75b",
   "metadata": {},
   "outputs": [
    {
     "data": {
      "text/html": [
       "<div>\n",
       "<style scoped>\n",
       "    .dataframe tbody tr th:only-of-type {\n",
       "        vertical-align: middle;\n",
       "    }\n",
       "\n",
       "    .dataframe tbody tr th {\n",
       "        vertical-align: top;\n",
       "    }\n",
       "\n",
       "    .dataframe thead th {\n",
       "        text-align: right;\n",
       "    }\n",
       "</style>\n",
       "<table border=\"1\" class=\"dataframe\">\n",
       "  <thead>\n",
       "    <tr style=\"text-align: right;\">\n",
       "      <th></th>\n",
       "      <th>average error</th>\n",
       "      <th>error std</th>\n",
       "    </tr>\n",
       "    <tr>\n",
       "      <th>p</th>\n",
       "      <th></th>\n",
       "      <th></th>\n",
       "    </tr>\n",
       "  </thead>\n",
       "  <tbody>\n",
       "    <tr>\n",
       "      <th>0.20</th>\n",
       "      <td>274519.2</td>\n",
       "      <td>614.802212</td>\n",
       "    </tr>\n",
       "    <tr>\n",
       "      <th>0.50</th>\n",
       "      <td>256459.8</td>\n",
       "      <td>690.788361</td>\n",
       "    </tr>\n",
       "    <tr>\n",
       "      <th>0.90</th>\n",
       "      <td>229929.4</td>\n",
       "      <td>593.732802</td>\n",
       "    </tr>\n",
       "    <tr>\n",
       "      <th>0.95</th>\n",
       "      <td>226144.0</td>\n",
       "      <td>324.192535</td>\n",
       "    </tr>\n",
       "  </tbody>\n",
       "</table>\n",
       "</div>"
      ],
      "text/plain": [
       "      average error   error std\n",
       "p                              \n",
       "0.20       274519.2  614.802212\n",
       "0.50       256459.8  690.788361\n",
       "0.90       229929.4  593.732802\n",
       "0.95       226144.0  324.192535"
      ]
     },
     "execution_count": 112,
     "metadata": {},
     "output_type": "execute_result"
    }
   ],
   "source": [
    "show_results()"
   ]
  },
  {
   "cell_type": "code",
   "execution_count": 113,
   "id": "944296e7-1606-4752-a790-738589f24088",
   "metadata": {},
   "outputs": [],
   "source": [
    "def show_results():\n",
    "    vals = [0.2,0.5,0.9,0.95]\n",
    "    data = []\n",
    "    row = []\n",
    "    for p_val in vals:\n",
    "        row = []\n",
    "        for seed in [0,1,2,3,4]:\n",
    "            row.append(pd.read_csv(\n",
    "                f'http://127.0.0.1:6006/data/plugin/scalars/scalars?tag=train%2Fcumulative_error_step&run=model%3Dmodel.VariableAlphaExperiment-backbone%3Dmodules.Fast_AuxDrop_ODL-lr%3D0.05-width%3D50-loss%3Dtorch.nn.CrossEntropyLoss-seed%3D{seed}-missingness%3D{p_val}&format=csv'\n",
    "            )['Value'].iloc[-1])\n",
    "        data.append([p_val, np.array(row).mean(), np.array(row).std()])\n",
    "    results = pd.DataFrame(data, columns=[\"p\", \"average error\", \"error std\"])\n",
    "    results = results.set_index(\"p\")\n",
    "    return results    "
   ]
  },
  {
   "cell_type": "code",
   "execution_count": 114,
   "id": "57a2b143-d43d-45fc-9ca1-817d7bd8310e",
   "metadata": {},
   "outputs": [
    {
     "data": {
      "text/html": [
       "<div>\n",
       "<style scoped>\n",
       "    .dataframe tbody tr th:only-of-type {\n",
       "        vertical-align: middle;\n",
       "    }\n",
       "\n",
       "    .dataframe tbody tr th {\n",
       "        vertical-align: top;\n",
       "    }\n",
       "\n",
       "    .dataframe thead th {\n",
       "        text-align: right;\n",
       "    }\n",
       "</style>\n",
       "<table border=\"1\" class=\"dataframe\">\n",
       "  <thead>\n",
       "    <tr style=\"text-align: right;\">\n",
       "      <th></th>\n",
       "      <th>average error</th>\n",
       "      <th>error std</th>\n",
       "    </tr>\n",
       "    <tr>\n",
       "      <th>p</th>\n",
       "      <th></th>\n",
       "      <th></th>\n",
       "    </tr>\n",
       "  </thead>\n",
       "  <tbody>\n",
       "    <tr>\n",
       "      <th>0.20</th>\n",
       "      <td>274649.2</td>\n",
       "      <td>580.393453</td>\n",
       "    </tr>\n",
       "    <tr>\n",
       "      <th>0.50</th>\n",
       "      <td>256675.8</td>\n",
       "      <td>884.257745</td>\n",
       "    </tr>\n",
       "    <tr>\n",
       "      <th>0.90</th>\n",
       "      <td>230180.0</td>\n",
       "      <td>769.257044</td>\n",
       "    </tr>\n",
       "    <tr>\n",
       "      <th>0.95</th>\n",
       "      <td>226248.4</td>\n",
       "      <td>469.163340</td>\n",
       "    </tr>\n",
       "  </tbody>\n",
       "</table>\n",
       "</div>"
      ],
      "text/plain": [
       "      average error   error std\n",
       "p                              \n",
       "0.20       274649.2  580.393453\n",
       "0.50       256675.8  884.257745\n",
       "0.90       230180.0  769.257044\n",
       "0.95       226248.4  469.163340"
      ]
     },
     "execution_count": 114,
     "metadata": {},
     "output_type": "execute_result"
    }
   ],
   "source": [
    "show_results()"
   ]
  },
  {
   "cell_type": "code",
   "execution_count": null,
   "id": "17949ced-783f-4c03-ae7e-6cfc1438a6a6",
   "metadata": {},
   "outputs": [],
   "source": []
  },
  {
   "cell_type": "code",
   "execution_count": null,
   "id": "d4002e29-8254-482d-bd38-ab33bbefa90a",
   "metadata": {},
   "outputs": [],
   "source": []
  },
  {
   "cell_type": "code",
   "execution_count": 16,
   "id": "dfe20914-0d45-48e2-b7fb-7e700c848b28",
   "metadata": {},
   "outputs": [],
   "source": [
    "def show_results():\n",
    "    data = []\n",
    "    row = []\n",
    "    row = []\n",
    "    for seed in list(np.arange(20)):\n",
    "        row.append(pd.read_csv(\n",
    "            f'http://127.0.0.1:6006/data/plugin/scalars/scalars?tag=train%2Fcumulative_error_step&run=model%3Dmodel.OnlineLearner-backbone%3Dmodules.SetDecoder-lr%3D0.01-width%3D100-loss%3Dtorch.nn.CrossEntropyLoss-seed%3D{seed}&format=csv'\n",
    "        )['Value'].iloc[-1])\n",
    "    row = np.array(row)\n",
    "    return row.mean(), row.std()"
   ]
  },
  {
   "cell_type": "code",
   "execution_count": 154,
   "id": "f1328692-64e2-44e4-803c-a80a05b60c76",
   "metadata": {},
   "outputs": [
    {
     "name": "stdout",
     "output_type": "stream",
     "text": [
      "german\n"
     ]
    },
    {
     "data": {
      "text/plain": [
       "(318.15, 2.056088519495209)"
      ]
     },
     "execution_count": 154,
     "metadata": {},
     "output_type": "execute_result"
    }
   ],
   "source": [
    "print(\"german\")\n",
    "show_results()"
   ]
  },
  {
   "cell_type": "code",
   "execution_count": 155,
   "id": "536b92bc-dd78-4d34-864d-a104ff210d72",
   "metadata": {},
   "outputs": [
    {
     "name": "stdout",
     "output_type": "stream",
     "text": [
      "svmguide3\n"
     ]
    },
    {
     "data": {
      "text/plain": [
       "(297.0, 0.9486832980505138)"
      ]
     },
     "execution_count": 155,
     "metadata": {},
     "output_type": "execute_result"
    }
   ],
   "source": [
    "print(\"svmguide3\")\n",
    "show_results()"
   ]
  },
  {
   "cell_type": "code",
   "execution_count": 163,
   "id": "6281010f-0be8-4c01-96ce-02e4d619f96f",
   "metadata": {},
   "outputs": [
    {
     "name": "stdout",
     "output_type": "stream",
     "text": [
      "magic04\n"
     ]
    },
    {
     "data": {
      "text/plain": [
       "(6674.7, 15.8590668073503)"
      ]
     },
     "execution_count": 163,
     "metadata": {},
     "output_type": "execute_result"
    }
   ],
   "source": [
    "print(\"magic04\")\n",
    "show_results()"
   ]
  },
  {
   "cell_type": "code",
   "execution_count": 162,
   "id": "5e9ebab4-8366-4304-8c75-5269e6803f77",
   "metadata": {},
   "outputs": [
    {
     "name": "stdout",
     "output_type": "stream",
     "text": [
      "a8a\n"
     ]
    },
    {
     "data": {
      "text/plain": [
       "(7843.45, 2.4591665254715878)"
      ]
     },
     "execution_count": 162,
     "metadata": {},
     "output_type": "execute_result"
    }
   ],
   "source": [
    "print(\"a8a\")\n",
    "show_results()"
   ]
  },
  {
   "cell_type": "code",
   "execution_count": 224,
   "id": "d04d21a9-a0be-44dc-97dd-0e690eb6294a",
   "metadata": {},
   "outputs": [],
   "source": [
    "def show_results():\n",
    "    widths = [10,25,50,100]\n",
    "    layers=[1,2,3,4]\n",
    "    blocks=[1,2,3,4]\n",
    "    data = []\n",
    "    row = []\n",
    "    for width in widths:\n",
    "        for layer in layers:\n",
    "            for block in blocks:\n",
    "                row = []\n",
    "                for seed in np.arange(20):\n",
    "                    row.append(pd.read_csv(\n",
    "                        f'http://127.0.0.1:6006/data/plugin/scalars/scalars?tag=train%2Fcumulative_error_step&run=model%3Dmodel.OnlineLearner-backbone%3Dmodules.SetDecoder-lr%3D0.01-width%3D{width}-loss%3Dtorch.nn.CrossEntropyLoss-num_layers%3D{layer}-num_blocks%3D{block}-seed%3D{seed}&format=csv'\n",
    "                    )['Value'].iloc[-1])\n",
    "                data.append([block, layer, width, np.array(row).mean(), np.array(row).std()])\n",
    "    results = pd.DataFrame(data, columns=[\"block\", \"layer\", \"width\", \"average error\", \"error std\"])\n",
    "    # results = results.set_index(\"p\")\n",
    "    return results    "
   ]
  },
  {
   "cell_type": "code",
   "execution_count": 213,
   "id": "0b1fdcd8-e1a8-4ef4-8072-d6f34fd6a02d",
   "metadata": {},
   "outputs": [
    {
     "data": {
      "text/html": [
       "<div>\n",
       "<style scoped>\n",
       "    .dataframe tbody tr th:only-of-type {\n",
       "        vertical-align: middle;\n",
       "    }\n",
       "\n",
       "    .dataframe tbody tr th {\n",
       "        vertical-align: top;\n",
       "    }\n",
       "\n",
       "    .dataframe thead th {\n",
       "        text-align: right;\n",
       "    }\n",
       "</style>\n",
       "<table border=\"1\" class=\"dataframe\">\n",
       "  <thead>\n",
       "    <tr style=\"text-align: right;\">\n",
       "      <th></th>\n",
       "      <th>block</th>\n",
       "      <th>layer</th>\n",
       "      <th>width</th>\n",
       "      <th>average error</th>\n",
       "      <th>error std</th>\n",
       "    </tr>\n",
       "  </thead>\n",
       "  <tbody>\n",
       "    <tr>\n",
       "      <th>0</th>\n",
       "      <td>1</td>\n",
       "      <td>1</td>\n",
       "      <td>10</td>\n",
       "      <td>316.0</td>\n",
       "      <td>0.0</td>\n",
       "    </tr>\n",
       "    <tr>\n",
       "      <th>1</th>\n",
       "      <td>2</td>\n",
       "      <td>1</td>\n",
       "      <td>10</td>\n",
       "      <td>316.0</td>\n",
       "      <td>0.0</td>\n",
       "    </tr>\n",
       "    <tr>\n",
       "      <th>2</th>\n",
       "      <td>3</td>\n",
       "      <td>1</td>\n",
       "      <td>10</td>\n",
       "      <td>316.0</td>\n",
       "      <td>0.0</td>\n",
       "    </tr>\n",
       "    <tr>\n",
       "      <th>3</th>\n",
       "      <td>4</td>\n",
       "      <td>1</td>\n",
       "      <td>10</td>\n",
       "      <td>327.0</td>\n",
       "      <td>0.0</td>\n",
       "    </tr>\n",
       "    <tr>\n",
       "      <th>4</th>\n",
       "      <td>1</td>\n",
       "      <td>2</td>\n",
       "      <td>10</td>\n",
       "      <td>316.0</td>\n",
       "      <td>0.0</td>\n",
       "    </tr>\n",
       "    <tr>\n",
       "      <th>...</th>\n",
       "      <td>...</td>\n",
       "      <td>...</td>\n",
       "      <td>...</td>\n",
       "      <td>...</td>\n",
       "      <td>...</td>\n",
       "    </tr>\n",
       "    <tr>\n",
       "      <th>59</th>\n",
       "      <td>4</td>\n",
       "      <td>3</td>\n",
       "      <td>100</td>\n",
       "      <td>317.0</td>\n",
       "      <td>0.0</td>\n",
       "    </tr>\n",
       "    <tr>\n",
       "      <th>60</th>\n",
       "      <td>1</td>\n",
       "      <td>4</td>\n",
       "      <td>100</td>\n",
       "      <td>316.0</td>\n",
       "      <td>0.0</td>\n",
       "    </tr>\n",
       "    <tr>\n",
       "      <th>61</th>\n",
       "      <td>2</td>\n",
       "      <td>4</td>\n",
       "      <td>100</td>\n",
       "      <td>317.0</td>\n",
       "      <td>0.0</td>\n",
       "    </tr>\n",
       "    <tr>\n",
       "      <th>62</th>\n",
       "      <td>3</td>\n",
       "      <td>4</td>\n",
       "      <td>100</td>\n",
       "      <td>318.0</td>\n",
       "      <td>0.0</td>\n",
       "    </tr>\n",
       "    <tr>\n",
       "      <th>63</th>\n",
       "      <td>4</td>\n",
       "      <td>4</td>\n",
       "      <td>100</td>\n",
       "      <td>318.0</td>\n",
       "      <td>0.0</td>\n",
       "    </tr>\n",
       "  </tbody>\n",
       "</table>\n",
       "<p>64 rows × 5 columns</p>\n",
       "</div>"
      ],
      "text/plain": [
       "    block  layer  width  average error  error std\n",
       "0       1      1     10          316.0        0.0\n",
       "1       2      1     10          316.0        0.0\n",
       "2       3      1     10          316.0        0.0\n",
       "3       4      1     10          327.0        0.0\n",
       "4       1      2     10          316.0        0.0\n",
       "..    ...    ...    ...            ...        ...\n",
       "59      4      3    100          317.0        0.0\n",
       "60      1      4    100          316.0        0.0\n",
       "61      2      4    100          317.0        0.0\n",
       "62      3      4    100          318.0        0.0\n",
       "63      4      4    100          318.0        0.0\n",
       "\n",
       "[64 rows x 5 columns]"
      ]
     },
     "execution_count": 213,
     "metadata": {},
     "output_type": "execute_result"
    }
   ],
   "source": [
    "german = show_results()\n",
    "german"
   ]
  },
  {
   "cell_type": "code",
   "execution_count": 214,
   "id": "ff449bc0-fc86-44c4-87f0-f500807f3d3e",
   "metadata": {},
   "outputs": [
    {
     "data": {
      "text/html": [
       "<div>\n",
       "<style scoped>\n",
       "    .dataframe tbody tr th:only-of-type {\n",
       "        vertical-align: middle;\n",
       "    }\n",
       "\n",
       "    .dataframe tbody tr th {\n",
       "        vertical-align: top;\n",
       "    }\n",
       "\n",
       "    .dataframe thead th {\n",
       "        text-align: right;\n",
       "    }\n",
       "</style>\n",
       "<table border=\"1\" class=\"dataframe\">\n",
       "  <thead>\n",
       "    <tr style=\"text-align: right;\">\n",
       "      <th></th>\n",
       "      <th>block</th>\n",
       "      <th>layer</th>\n",
       "      <th>width</th>\n",
       "      <th>average error</th>\n",
       "      <th>error std</th>\n",
       "    </tr>\n",
       "  </thead>\n",
       "  <tbody>\n",
       "    <tr>\n",
       "      <th>19</th>\n",
       "      <td>4</td>\n",
       "      <td>1</td>\n",
       "      <td>25</td>\n",
       "      <td>315.0</td>\n",
       "      <td>0.0</td>\n",
       "    </tr>\n",
       "    <tr>\n",
       "      <th>0</th>\n",
       "      <td>1</td>\n",
       "      <td>1</td>\n",
       "      <td>10</td>\n",
       "      <td>316.0</td>\n",
       "      <td>0.0</td>\n",
       "    </tr>\n",
       "    <tr>\n",
       "      <th>28</th>\n",
       "      <td>1</td>\n",
       "      <td>4</td>\n",
       "      <td>25</td>\n",
       "      <td>316.0</td>\n",
       "      <td>0.0</td>\n",
       "    </tr>\n",
       "    <tr>\n",
       "      <th>32</th>\n",
       "      <td>1</td>\n",
       "      <td>1</td>\n",
       "      <td>50</td>\n",
       "      <td>316.0</td>\n",
       "      <td>0.0</td>\n",
       "    </tr>\n",
       "    <tr>\n",
       "      <th>34</th>\n",
       "      <td>3</td>\n",
       "      <td>1</td>\n",
       "      <td>50</td>\n",
       "      <td>316.0</td>\n",
       "      <td>0.0</td>\n",
       "    </tr>\n",
       "    <tr>\n",
       "      <th>35</th>\n",
       "      <td>4</td>\n",
       "      <td>1</td>\n",
       "      <td>50</td>\n",
       "      <td>316.0</td>\n",
       "      <td>0.0</td>\n",
       "    </tr>\n",
       "    <tr>\n",
       "      <th>36</th>\n",
       "      <td>1</td>\n",
       "      <td>2</td>\n",
       "      <td>50</td>\n",
       "      <td>316.0</td>\n",
       "      <td>0.0</td>\n",
       "    </tr>\n",
       "    <tr>\n",
       "      <th>37</th>\n",
       "      <td>2</td>\n",
       "      <td>2</td>\n",
       "      <td>50</td>\n",
       "      <td>316.0</td>\n",
       "      <td>0.0</td>\n",
       "    </tr>\n",
       "    <tr>\n",
       "      <th>38</th>\n",
       "      <td>3</td>\n",
       "      <td>2</td>\n",
       "      <td>50</td>\n",
       "      <td>316.0</td>\n",
       "      <td>0.0</td>\n",
       "    </tr>\n",
       "    <tr>\n",
       "      <th>39</th>\n",
       "      <td>4</td>\n",
       "      <td>2</td>\n",
       "      <td>50</td>\n",
       "      <td>316.0</td>\n",
       "      <td>0.0</td>\n",
       "    </tr>\n",
       "  </tbody>\n",
       "</table>\n",
       "</div>"
      ],
      "text/plain": [
       "    block  layer  width  average error  error std\n",
       "19      4      1     25          315.0        0.0\n",
       "0       1      1     10          316.0        0.0\n",
       "28      1      4     25          316.0        0.0\n",
       "32      1      1     50          316.0        0.0\n",
       "34      3      1     50          316.0        0.0\n",
       "35      4      1     50          316.0        0.0\n",
       "36      1      2     50          316.0        0.0\n",
       "37      2      2     50          316.0        0.0\n",
       "38      3      2     50          316.0        0.0\n",
       "39      4      2     50          316.0        0.0"
      ]
     },
     "execution_count": 214,
     "metadata": {},
     "output_type": "execute_result"
    }
   ],
   "source": [
    "# german.to_csv(\"german_hparams.csv\")\n",
    "german.sort_values(by='average error').head(10)"
   ]
  },
  {
   "cell_type": "code",
   "execution_count": 215,
   "id": "2e12d9c2-b11e-4bd6-9306-f409fd79f5e6",
   "metadata": {},
   "outputs": [
    {
     "data": {
      "text/html": [
       "<div>\n",
       "<style scoped>\n",
       "    .dataframe tbody tr th:only-of-type {\n",
       "        vertical-align: middle;\n",
       "    }\n",
       "\n",
       "    .dataframe tbody tr th {\n",
       "        vertical-align: top;\n",
       "    }\n",
       "\n",
       "    .dataframe thead th {\n",
       "        text-align: right;\n",
       "    }\n",
       "</style>\n",
       "<table border=\"1\" class=\"dataframe\">\n",
       "  <thead>\n",
       "    <tr style=\"text-align: right;\">\n",
       "      <th></th>\n",
       "      <th>block</th>\n",
       "      <th>layer</th>\n",
       "      <th>width</th>\n",
       "      <th>average error</th>\n",
       "      <th>error std</th>\n",
       "    </tr>\n",
       "  </thead>\n",
       "  <tbody>\n",
       "    <tr>\n",
       "      <th>0</th>\n",
       "      <td>1</td>\n",
       "      <td>1</td>\n",
       "      <td>10</td>\n",
       "      <td>316.0</td>\n",
       "      <td>0.0</td>\n",
       "    </tr>\n",
       "    <tr>\n",
       "      <th>34</th>\n",
       "      <td>3</td>\n",
       "      <td>1</td>\n",
       "      <td>50</td>\n",
       "      <td>316.0</td>\n",
       "      <td>0.0</td>\n",
       "    </tr>\n",
       "    <tr>\n",
       "      <th>35</th>\n",
       "      <td>4</td>\n",
       "      <td>1</td>\n",
       "      <td>50</td>\n",
       "      <td>316.0</td>\n",
       "      <td>0.0</td>\n",
       "    </tr>\n",
       "    <tr>\n",
       "      <th>36</th>\n",
       "      <td>1</td>\n",
       "      <td>2</td>\n",
       "      <td>50</td>\n",
       "      <td>316.0</td>\n",
       "      <td>0.0</td>\n",
       "    </tr>\n",
       "    <tr>\n",
       "      <th>37</th>\n",
       "      <td>2</td>\n",
       "      <td>2</td>\n",
       "      <td>50</td>\n",
       "      <td>316.0</td>\n",
       "      <td>0.0</td>\n",
       "    </tr>\n",
       "    <tr>\n",
       "      <th>38</th>\n",
       "      <td>3</td>\n",
       "      <td>2</td>\n",
       "      <td>50</td>\n",
       "      <td>316.0</td>\n",
       "      <td>0.0</td>\n",
       "    </tr>\n",
       "    <tr>\n",
       "      <th>39</th>\n",
       "      <td>4</td>\n",
       "      <td>2</td>\n",
       "      <td>50</td>\n",
       "      <td>316.0</td>\n",
       "      <td>0.0</td>\n",
       "    </tr>\n",
       "    <tr>\n",
       "      <th>40</th>\n",
       "      <td>1</td>\n",
       "      <td>3</td>\n",
       "      <td>50</td>\n",
       "      <td>316.0</td>\n",
       "      <td>0.0</td>\n",
       "    </tr>\n",
       "    <tr>\n",
       "      <th>41</th>\n",
       "      <td>2</td>\n",
       "      <td>3</td>\n",
       "      <td>50</td>\n",
       "      <td>316.0</td>\n",
       "      <td>0.0</td>\n",
       "    </tr>\n",
       "    <tr>\n",
       "      <th>42</th>\n",
       "      <td>3</td>\n",
       "      <td>3</td>\n",
       "      <td>50</td>\n",
       "      <td>316.0</td>\n",
       "      <td>0.0</td>\n",
       "    </tr>\n",
       "  </tbody>\n",
       "</table>\n",
       "</div>"
      ],
      "text/plain": [
       "    block  layer  width  average error  error std\n",
       "0       1      1     10          316.0        0.0\n",
       "34      3      1     50          316.0        0.0\n",
       "35      4      1     50          316.0        0.0\n",
       "36      1      2     50          316.0        0.0\n",
       "37      2      2     50          316.0        0.0\n",
       "38      3      2     50          316.0        0.0\n",
       "39      4      2     50          316.0        0.0\n",
       "40      1      3     50          316.0        0.0\n",
       "41      2      3     50          316.0        0.0\n",
       "42      3      3     50          316.0        0.0"
      ]
     },
     "execution_count": 215,
     "metadata": {},
     "output_type": "execute_result"
    }
   ],
   "source": [
    "german.sort_values(by='error std').head(10)"
   ]
  },
  {
   "cell_type": "code",
   "execution_count": 219,
   "id": "828b9173-df21-4920-8e18-ac89ff17215f",
   "metadata": {},
   "outputs": [
    {
     "name": "stdout",
     "output_type": "stream",
     "text": [
      "6689.0\n",
      "6690.0\n",
      "6694.0\n",
      "6688.0\n",
      "6692.0\n",
      "6684.0\n",
      "6688.0\n",
      "6688.0\n",
      "6692.0\n",
      "6687.0\n",
      "6688.0\n",
      "6690.0\n",
      "6688.0\n",
      "6670.0\n",
      "6677.0\n",
      "6678.0\n",
      "6688.0\n",
      "6684.0\n",
      "6688.0\n",
      "6727.0\n"
     ]
    }
   ],
   "source": [
    "for seed in list(np.arange(20)):\n",
    "    print(pd.read_csv(f'http://127.0.0.1:6006/data/plugin/scalars/scalars?tag=train%2Fcumulative_error_step&run=model%3Dmodel.OnlineLearner-backbone%3Dmodules.SetDecoder-lr%3D0.01-width%3D{10}-loss%3Dtorch.nn.CrossEntropyLoss-num_layers%3D{1}-num_blocks%3D{1}-seed%3D{seed}&format=csv'\n",
    "                    )['Value'].iloc[-1])"
   ]
  },
  {
   "cell_type": "code",
   "execution_count": 225,
   "id": "7ca3273d-d4cd-4245-b038-4b2210e9b51e",
   "metadata": {},
   "outputs": [
    {
     "data": {
      "text/html": [
       "<div>\n",
       "<style scoped>\n",
       "    .dataframe tbody tr th:only-of-type {\n",
       "        vertical-align: middle;\n",
       "    }\n",
       "\n",
       "    .dataframe tbody tr th {\n",
       "        vertical-align: top;\n",
       "    }\n",
       "\n",
       "    .dataframe thead th {\n",
       "        text-align: right;\n",
       "    }\n",
       "</style>\n",
       "<table border=\"1\" class=\"dataframe\">\n",
       "  <thead>\n",
       "    <tr style=\"text-align: right;\">\n",
       "      <th></th>\n",
       "      <th>block</th>\n",
       "      <th>layer</th>\n",
       "      <th>width</th>\n",
       "      <th>average error</th>\n",
       "      <th>error std</th>\n",
       "    </tr>\n",
       "  </thead>\n",
       "  <tbody>\n",
       "    <tr>\n",
       "      <th>0</th>\n",
       "      <td>1</td>\n",
       "      <td>1</td>\n",
       "      <td>10</td>\n",
       "      <td>6688.50</td>\n",
       "      <td>10.418733</td>\n",
       "    </tr>\n",
       "    <tr>\n",
       "      <th>1</th>\n",
       "      <td>2</td>\n",
       "      <td>1</td>\n",
       "      <td>10</td>\n",
       "      <td>6692.45</td>\n",
       "      <td>13.962360</td>\n",
       "    </tr>\n",
       "    <tr>\n",
       "      <th>2</th>\n",
       "      <td>3</td>\n",
       "      <td>1</td>\n",
       "      <td>10</td>\n",
       "      <td>6698.55</td>\n",
       "      <td>16.844806</td>\n",
       "    </tr>\n",
       "    <tr>\n",
       "      <th>3</th>\n",
       "      <td>4</td>\n",
       "      <td>1</td>\n",
       "      <td>10</td>\n",
       "      <td>6691.95</td>\n",
       "      <td>16.283350</td>\n",
       "    </tr>\n",
       "    <tr>\n",
       "      <th>4</th>\n",
       "      <td>1</td>\n",
       "      <td>2</td>\n",
       "      <td>10</td>\n",
       "      <td>6695.15</td>\n",
       "      <td>11.752766</td>\n",
       "    </tr>\n",
       "    <tr>\n",
       "      <th>...</th>\n",
       "      <td>...</td>\n",
       "      <td>...</td>\n",
       "      <td>...</td>\n",
       "      <td>...</td>\n",
       "      <td>...</td>\n",
       "    </tr>\n",
       "    <tr>\n",
       "      <th>59</th>\n",
       "      <td>4</td>\n",
       "      <td>3</td>\n",
       "      <td>100</td>\n",
       "      <td>6691.70</td>\n",
       "      <td>5.831809</td>\n",
       "    </tr>\n",
       "    <tr>\n",
       "      <th>60</th>\n",
       "      <td>1</td>\n",
       "      <td>4</td>\n",
       "      <td>100</td>\n",
       "      <td>6691.50</td>\n",
       "      <td>4.260282</td>\n",
       "    </tr>\n",
       "    <tr>\n",
       "      <th>61</th>\n",
       "      <td>2</td>\n",
       "      <td>4</td>\n",
       "      <td>100</td>\n",
       "      <td>6691.45</td>\n",
       "      <td>4.758939</td>\n",
       "    </tr>\n",
       "    <tr>\n",
       "      <th>62</th>\n",
       "      <td>3</td>\n",
       "      <td>4</td>\n",
       "      <td>100</td>\n",
       "      <td>6694.75</td>\n",
       "      <td>6.684871</td>\n",
       "    </tr>\n",
       "    <tr>\n",
       "      <th>63</th>\n",
       "      <td>4</td>\n",
       "      <td>4</td>\n",
       "      <td>100</td>\n",
       "      <td>6693.95</td>\n",
       "      <td>7.228243</td>\n",
       "    </tr>\n",
       "  </tbody>\n",
       "</table>\n",
       "<p>64 rows × 5 columns</p>\n",
       "</div>"
      ],
      "text/plain": [
       "    block  layer  width  average error  error std\n",
       "0       1      1     10        6688.50  10.418733\n",
       "1       2      1     10        6692.45  13.962360\n",
       "2       3      1     10        6698.55  16.844806\n",
       "3       4      1     10        6691.95  16.283350\n",
       "4       1      2     10        6695.15  11.752766\n",
       "..    ...    ...    ...            ...        ...\n",
       "59      4      3    100        6691.70   5.831809\n",
       "60      1      4    100        6691.50   4.260282\n",
       "61      2      4    100        6691.45   4.758939\n",
       "62      3      4    100        6694.75   6.684871\n",
       "63      4      4    100        6693.95   7.228243\n",
       "\n",
       "[64 rows x 5 columns]"
      ]
     },
     "execution_count": 225,
     "metadata": {},
     "output_type": "execute_result"
    }
   ],
   "source": [
    "magic = show_results()\n",
    "magic"
   ]
  },
  {
   "cell_type": "code",
   "execution_count": 226,
   "id": "36f8f71e-82f5-47cc-a326-6b11a62e670a",
   "metadata": {},
   "outputs": [
    {
     "data": {
      "text/html": [
       "<div>\n",
       "<style scoped>\n",
       "    .dataframe tbody tr th:only-of-type {\n",
       "        vertical-align: middle;\n",
       "    }\n",
       "\n",
       "    .dataframe tbody tr th {\n",
       "        vertical-align: top;\n",
       "    }\n",
       "\n",
       "    .dataframe thead th {\n",
       "        text-align: right;\n",
       "    }\n",
       "</style>\n",
       "<table border=\"1\" class=\"dataframe\">\n",
       "  <thead>\n",
       "    <tr style=\"text-align: right;\">\n",
       "      <th></th>\n",
       "      <th>block</th>\n",
       "      <th>layer</th>\n",
       "      <th>width</th>\n",
       "      <th>average error</th>\n",
       "      <th>error std</th>\n",
       "    </tr>\n",
       "  </thead>\n",
       "  <tbody>\n",
       "    <tr>\n",
       "      <th>50</th>\n",
       "      <td>3</td>\n",
       "      <td>1</td>\n",
       "      <td>100</td>\n",
       "      <td>6638.65</td>\n",
       "      <td>11.697329</td>\n",
       "    </tr>\n",
       "    <tr>\n",
       "      <th>49</th>\n",
       "      <td>2</td>\n",
       "      <td>1</td>\n",
       "      <td>100</td>\n",
       "      <td>6638.85</td>\n",
       "      <td>10.928289</td>\n",
       "    </tr>\n",
       "    <tr>\n",
       "      <th>51</th>\n",
       "      <td>4</td>\n",
       "      <td>1</td>\n",
       "      <td>100</td>\n",
       "      <td>6639.85</td>\n",
       "      <td>8.217512</td>\n",
       "    </tr>\n",
       "    <tr>\n",
       "      <th>34</th>\n",
       "      <td>3</td>\n",
       "      <td>1</td>\n",
       "      <td>50</td>\n",
       "      <td>6641.55</td>\n",
       "      <td>11.293693</td>\n",
       "    </tr>\n",
       "    <tr>\n",
       "      <th>48</th>\n",
       "      <td>1</td>\n",
       "      <td>1</td>\n",
       "      <td>100</td>\n",
       "      <td>6641.65</td>\n",
       "      <td>9.483011</td>\n",
       "    </tr>\n",
       "    <tr>\n",
       "      <th>33</th>\n",
       "      <td>2</td>\n",
       "      <td>1</td>\n",
       "      <td>50</td>\n",
       "      <td>6644.45</td>\n",
       "      <td>11.951883</td>\n",
       "    </tr>\n",
       "    <tr>\n",
       "      <th>35</th>\n",
       "      <td>4</td>\n",
       "      <td>1</td>\n",
       "      <td>50</td>\n",
       "      <td>6644.75</td>\n",
       "      <td>11.268873</td>\n",
       "    </tr>\n",
       "    <tr>\n",
       "      <th>32</th>\n",
       "      <td>1</td>\n",
       "      <td>1</td>\n",
       "      <td>50</td>\n",
       "      <td>6646.10</td>\n",
       "      <td>14.969636</td>\n",
       "    </tr>\n",
       "    <tr>\n",
       "      <th>17</th>\n",
       "      <td>2</td>\n",
       "      <td>1</td>\n",
       "      <td>25</td>\n",
       "      <td>6659.20</td>\n",
       "      <td>16.506362</td>\n",
       "    </tr>\n",
       "    <tr>\n",
       "      <th>16</th>\n",
       "      <td>1</td>\n",
       "      <td>1</td>\n",
       "      <td>25</td>\n",
       "      <td>6660.50</td>\n",
       "      <td>17.086544</td>\n",
       "    </tr>\n",
       "  </tbody>\n",
       "</table>\n",
       "</div>"
      ],
      "text/plain": [
       "    block  layer  width  average error  error std\n",
       "50      3      1    100        6638.65  11.697329\n",
       "49      2      1    100        6638.85  10.928289\n",
       "51      4      1    100        6639.85   8.217512\n",
       "34      3      1     50        6641.55  11.293693\n",
       "48      1      1    100        6641.65   9.483011\n",
       "33      2      1     50        6644.45  11.951883\n",
       "35      4      1     50        6644.75  11.268873\n",
       "32      1      1     50        6646.10  14.969636\n",
       "17      2      1     25        6659.20  16.506362\n",
       "16      1      1     25        6660.50  17.086544"
      ]
     },
     "execution_count": 226,
     "metadata": {},
     "output_type": "execute_result"
    }
   ],
   "source": [
    "magic.sort_values(by='average error').head(10)"
   ]
  },
  {
   "cell_type": "code",
   "execution_count": 227,
   "id": "b765e7e5-2427-4013-b109-217c86de67e7",
   "metadata": {},
   "outputs": [],
   "source": [
    "# magic.to_csv(\"magic_hparams.csv\")"
   ]
  },
  {
   "cell_type": "code",
   "execution_count": 233,
   "id": "a985aefd-9d0e-44bf-bd8c-fcb712628541",
   "metadata": {},
   "outputs": [],
   "source": [
    "def show_results_ODL():\n",
    "    widths = [15,25,50,100]\n",
    "    layers=[4,5,6,7,8]\n",
    "    data = []\n",
    "    row = []\n",
    "    for width in widths:\n",
    "        for layer in layers:\n",
    "            row = []\n",
    "            for seed in np.arange(20):\n",
    "                row.append(pd.read_csv(\n",
    "                    f'http://127.0.0.1:6006/data/plugin/scalars/scalars?tag=train%2Fcumulative_error_step&run=model%3Dmodel.OnlineLearner-backbone%3Dmodules.Fast_AuxDrop_ODL-lr%3D0.1-width%3D{width}-layers%3D{layer}-loss%3Dtorch.nn.CrossEntropyLoss-seed%3D{seed}&format=csv'\n",
    "                )['Value'].iloc[-1])\n",
    "            data.append([layer, width, np.array(row).mean(), np.array(row).std()])\n",
    "    results = pd.DataFrame(data, columns=[\"layer\", \"width\", \"average error\", \"error std\"])\n",
    "    # results = results.set_index(\"p\")\n",
    "    return results    "
   ]
  },
  {
   "cell_type": "code",
   "execution_count": 234,
   "id": "858d4d95-d88d-477a-91c6-8af6e73b5023",
   "metadata": {},
   "outputs": [
    {
     "data": {
      "text/html": [
       "<div>\n",
       "<style scoped>\n",
       "    .dataframe tbody tr th:only-of-type {\n",
       "        vertical-align: middle;\n",
       "    }\n",
       "\n",
       "    .dataframe tbody tr th {\n",
       "        vertical-align: top;\n",
       "    }\n",
       "\n",
       "    .dataframe thead th {\n",
       "        text-align: right;\n",
       "    }\n",
       "</style>\n",
       "<table border=\"1\" class=\"dataframe\">\n",
       "  <thead>\n",
       "    <tr style=\"text-align: right;\">\n",
       "      <th></th>\n",
       "      <th>layer</th>\n",
       "      <th>width</th>\n",
       "      <th>average error</th>\n",
       "      <th>error std</th>\n",
       "    </tr>\n",
       "  </thead>\n",
       "  <tbody>\n",
       "    <tr>\n",
       "      <th>0</th>\n",
       "      <td>4</td>\n",
       "      <td>15</td>\n",
       "      <td>304.95</td>\n",
       "      <td>10.698014</td>\n",
       "    </tr>\n",
       "    <tr>\n",
       "      <th>1</th>\n",
       "      <td>5</td>\n",
       "      <td>15</td>\n",
       "      <td>301.45</td>\n",
       "      <td>14.420385</td>\n",
       "    </tr>\n",
       "    <tr>\n",
       "      <th>2</th>\n",
       "      <td>6</td>\n",
       "      <td>15</td>\n",
       "      <td>301.85</td>\n",
       "      <td>8.973712</td>\n",
       "    </tr>\n",
       "    <tr>\n",
       "      <th>3</th>\n",
       "      <td>7</td>\n",
       "      <td>15</td>\n",
       "      <td>305.75</td>\n",
       "      <td>8.172362</td>\n",
       "    </tr>\n",
       "    <tr>\n",
       "      <th>4</th>\n",
       "      <td>8</td>\n",
       "      <td>15</td>\n",
       "      <td>307.95</td>\n",
       "      <td>9.052486</td>\n",
       "    </tr>\n",
       "    <tr>\n",
       "      <th>5</th>\n",
       "      <td>4</td>\n",
       "      <td>25</td>\n",
       "      <td>308.35</td>\n",
       "      <td>9.535591</td>\n",
       "    </tr>\n",
       "    <tr>\n",
       "      <th>6</th>\n",
       "      <td>5</td>\n",
       "      <td>25</td>\n",
       "      <td>298.85</td>\n",
       "      <td>5.858967</td>\n",
       "    </tr>\n",
       "    <tr>\n",
       "      <th>7</th>\n",
       "      <td>6</td>\n",
       "      <td>25</td>\n",
       "      <td>302.30</td>\n",
       "      <td>6.221736</td>\n",
       "    </tr>\n",
       "    <tr>\n",
       "      <th>8</th>\n",
       "      <td>7</td>\n",
       "      <td>25</td>\n",
       "      <td>305.50</td>\n",
       "      <td>7.144928</td>\n",
       "    </tr>\n",
       "    <tr>\n",
       "      <th>9</th>\n",
       "      <td>8</td>\n",
       "      <td>25</td>\n",
       "      <td>307.35</td>\n",
       "      <td>6.612677</td>\n",
       "    </tr>\n",
       "    <tr>\n",
       "      <th>10</th>\n",
       "      <td>4</td>\n",
       "      <td>50</td>\n",
       "      <td>310.95</td>\n",
       "      <td>8.941337</td>\n",
       "    </tr>\n",
       "    <tr>\n",
       "      <th>11</th>\n",
       "      <td>5</td>\n",
       "      <td>50</td>\n",
       "      <td>306.85</td>\n",
       "      <td>11.641628</td>\n",
       "    </tr>\n",
       "    <tr>\n",
       "      <th>12</th>\n",
       "      <td>6</td>\n",
       "      <td>50</td>\n",
       "      <td>308.45</td>\n",
       "      <td>9.505130</td>\n",
       "    </tr>\n",
       "    <tr>\n",
       "      <th>13</th>\n",
       "      <td>7</td>\n",
       "      <td>50</td>\n",
       "      <td>307.35</td>\n",
       "      <td>9.398271</td>\n",
       "    </tr>\n",
       "    <tr>\n",
       "      <th>14</th>\n",
       "      <td>8</td>\n",
       "      <td>50</td>\n",
       "      <td>305.20</td>\n",
       "      <td>6.531462</td>\n",
       "    </tr>\n",
       "    <tr>\n",
       "      <th>15</th>\n",
       "      <td>4</td>\n",
       "      <td>100</td>\n",
       "      <td>317.25</td>\n",
       "      <td>4.145781</td>\n",
       "    </tr>\n",
       "    <tr>\n",
       "      <th>16</th>\n",
       "      <td>5</td>\n",
       "      <td>100</td>\n",
       "      <td>310.60</td>\n",
       "      <td>9.090655</td>\n",
       "    </tr>\n",
       "    <tr>\n",
       "      <th>17</th>\n",
       "      <td>6</td>\n",
       "      <td>100</td>\n",
       "      <td>308.25</td>\n",
       "      <td>8.123269</td>\n",
       "    </tr>\n",
       "    <tr>\n",
       "      <th>18</th>\n",
       "      <td>7</td>\n",
       "      <td>100</td>\n",
       "      <td>311.60</td>\n",
       "      <td>8.952095</td>\n",
       "    </tr>\n",
       "    <tr>\n",
       "      <th>19</th>\n",
       "      <td>8</td>\n",
       "      <td>100</td>\n",
       "      <td>312.20</td>\n",
       "      <td>8.524084</td>\n",
       "    </tr>\n",
       "  </tbody>\n",
       "</table>\n",
       "</div>"
      ],
      "text/plain": [
       "    layer  width  average error  error std\n",
       "0       4     15         304.95  10.698014\n",
       "1       5     15         301.45  14.420385\n",
       "2       6     15         301.85   8.973712\n",
       "3       7     15         305.75   8.172362\n",
       "4       8     15         307.95   9.052486\n",
       "5       4     25         308.35   9.535591\n",
       "6       5     25         298.85   5.858967\n",
       "7       6     25         302.30   6.221736\n",
       "8       7     25         305.50   7.144928\n",
       "9       8     25         307.35   6.612677\n",
       "10      4     50         310.95   8.941337\n",
       "11      5     50         306.85  11.641628\n",
       "12      6     50         308.45   9.505130\n",
       "13      7     50         307.35   9.398271\n",
       "14      8     50         305.20   6.531462\n",
       "15      4    100         317.25   4.145781\n",
       "16      5    100         310.60   9.090655\n",
       "17      6    100         308.25   8.123269\n",
       "18      7    100         311.60   8.952095\n",
       "19      8    100         312.20   8.524084"
      ]
     },
     "execution_count": 234,
     "metadata": {},
     "output_type": "execute_result"
    }
   ],
   "source": [
    "odl_german = show_results_ODL()\n",
    "odl_german"
   ]
  },
  {
   "cell_type": "code",
   "execution_count": 235,
   "id": "8c0095d5-dee8-4694-8aad-3ae7b58481d7",
   "metadata": {},
   "outputs": [
    {
     "data": {
      "text/html": [
       "<div>\n",
       "<style scoped>\n",
       "    .dataframe tbody tr th:only-of-type {\n",
       "        vertical-align: middle;\n",
       "    }\n",
       "\n",
       "    .dataframe tbody tr th {\n",
       "        vertical-align: top;\n",
       "    }\n",
       "\n",
       "    .dataframe thead th {\n",
       "        text-align: right;\n",
       "    }\n",
       "</style>\n",
       "<table border=\"1\" class=\"dataframe\">\n",
       "  <thead>\n",
       "    <tr style=\"text-align: right;\">\n",
       "      <th></th>\n",
       "      <th>layer</th>\n",
       "      <th>width</th>\n",
       "      <th>average error</th>\n",
       "      <th>error std</th>\n",
       "    </tr>\n",
       "  </thead>\n",
       "  <tbody>\n",
       "    <tr>\n",
       "      <th>6</th>\n",
       "      <td>5</td>\n",
       "      <td>25</td>\n",
       "      <td>298.85</td>\n",
       "      <td>5.858967</td>\n",
       "    </tr>\n",
       "    <tr>\n",
       "      <th>1</th>\n",
       "      <td>5</td>\n",
       "      <td>15</td>\n",
       "      <td>301.45</td>\n",
       "      <td>14.420385</td>\n",
       "    </tr>\n",
       "    <tr>\n",
       "      <th>2</th>\n",
       "      <td>6</td>\n",
       "      <td>15</td>\n",
       "      <td>301.85</td>\n",
       "      <td>8.973712</td>\n",
       "    </tr>\n",
       "    <tr>\n",
       "      <th>7</th>\n",
       "      <td>6</td>\n",
       "      <td>25</td>\n",
       "      <td>302.30</td>\n",
       "      <td>6.221736</td>\n",
       "    </tr>\n",
       "    <tr>\n",
       "      <th>0</th>\n",
       "      <td>4</td>\n",
       "      <td>15</td>\n",
       "      <td>304.95</td>\n",
       "      <td>10.698014</td>\n",
       "    </tr>\n",
       "    <tr>\n",
       "      <th>14</th>\n",
       "      <td>8</td>\n",
       "      <td>50</td>\n",
       "      <td>305.20</td>\n",
       "      <td>6.531462</td>\n",
       "    </tr>\n",
       "    <tr>\n",
       "      <th>8</th>\n",
       "      <td>7</td>\n",
       "      <td>25</td>\n",
       "      <td>305.50</td>\n",
       "      <td>7.144928</td>\n",
       "    </tr>\n",
       "    <tr>\n",
       "      <th>3</th>\n",
       "      <td>7</td>\n",
       "      <td>15</td>\n",
       "      <td>305.75</td>\n",
       "      <td>8.172362</td>\n",
       "    </tr>\n",
       "    <tr>\n",
       "      <th>11</th>\n",
       "      <td>5</td>\n",
       "      <td>50</td>\n",
       "      <td>306.85</td>\n",
       "      <td>11.641628</td>\n",
       "    </tr>\n",
       "    <tr>\n",
       "      <th>13</th>\n",
       "      <td>7</td>\n",
       "      <td>50</td>\n",
       "      <td>307.35</td>\n",
       "      <td>9.398271</td>\n",
       "    </tr>\n",
       "  </tbody>\n",
       "</table>\n",
       "</div>"
      ],
      "text/plain": [
       "    layer  width  average error  error std\n",
       "6       5     25         298.85   5.858967\n",
       "1       5     15         301.45  14.420385\n",
       "2       6     15         301.85   8.973712\n",
       "7       6     25         302.30   6.221736\n",
       "0       4     15         304.95  10.698014\n",
       "14      8     50         305.20   6.531462\n",
       "8       7     25         305.50   7.144928\n",
       "3       7     15         305.75   8.172362\n",
       "11      5     50         306.85  11.641628\n",
       "13      7     50         307.35   9.398271"
      ]
     },
     "execution_count": 235,
     "metadata": {},
     "output_type": "execute_result"
    }
   ],
   "source": [
    "# german.to_csv(\"german_hparams.csv\")\n",
    "odl_german.sort_values(by='average error').head(10)"
   ]
  },
  {
   "cell_type": "code",
   "execution_count": null,
   "id": "74d30567-0ea8-4b77-9a4a-d33d1fb386f4",
   "metadata": {},
   "outputs": [],
   "source": []
  },
  {
   "cell_type": "code",
   "execution_count": null,
   "id": "7857e530-7fea-4d0a-ba81-75a7bd26ab48",
   "metadata": {},
   "outputs": [],
   "source": []
  },
  {
   "cell_type": "code",
   "execution_count": null,
   "id": "d45d9d75-3786-4c27-9c2d-74c87636b875",
   "metadata": {},
   "outputs": [],
   "source": []
  },
  {
   "cell_type": "code",
   "execution_count": null,
   "id": "a7d7fec3-5ef0-47ca-9c25-2b415180d93e",
   "metadata": {},
   "outputs": [],
   "source": []
  },
  {
   "cell_type": "code",
   "execution_count": 106,
   "id": "de6c0040-7661-4d57-bc29-19482b99b9cf",
   "metadata": {},
   "outputs": [],
   "source": [
    "## MLP"
   ]
  },
  {
   "cell_type": "code",
   "execution_count": 80,
   "id": "d0df5690-5d4e-404f-84ec-1aa26db9a75b",
   "metadata": {},
   "outputs": [
    {
     "name": "stdout",
     "output_type": "stream",
     "text": [
      "MLP german\n"
     ]
    },
    {
     "data": {
      "text/plain": [
       "(313.0,\n",
       " 19.964969321288727,\n",
       " array([309., 316., 321., 305., 298., 315., 326., 297., 298., 318., 314.,\n",
       "        317., 300., 327., 304., 298., 388., 294., 298., 317.]))"
      ]
     },
     "execution_count": 80,
     "metadata": {},
     "output_type": "execute_result"
    }
   ],
   "source": [
    "print(\"MLP german\")\n",
    "def show_results():\n",
    "    data = []\n",
    "    row = []\n",
    "    row = []\n",
    "    for seed in list(np.arange(20)):\n",
    "        row.append(pd.read_csv(\n",
    "        f'http://127.0.0.1:6006/data/plugin/scalars/scalars?tag=train%2Fcumulative_error_step&run=model%3Dmodel.OnlineMLP-backbone%3Dmodules.MLP-lr%3D0.01-width%3D250-layers%3D3-loss%3Dtorch.nn.CrossEntropyLoss-seed%3D{seed}&format=csv'\n",
    "        )['Value'].iloc[-1])\n",
    "    row = np.array(row)\n",
    "    return row.mean(), row.std(), row\n",
    "show_results()"
   ]
  },
  {
   "cell_type": "code",
   "execution_count": 81,
   "id": "20225b6b-e0bc-415c-977d-b907c7317b8d",
   "metadata": {},
   "outputs": [
    {
     "name": "stdout",
     "output_type": "stream",
     "text": [
      "MLP svm\n"
     ]
    },
    {
     "data": {
      "text/plain": [
       "(298.0,\n",
       " 2.1908902300206643,\n",
       " array([296., 297., 298., 300., 296., 299., 298., 296., 299., 299., 297.,\n",
       "        296., 301., 295., 297., 296., 304., 300., 296., 300.]))"
      ]
     },
     "execution_count": 81,
     "metadata": {},
     "output_type": "execute_result"
    }
   ],
   "source": [
    "print(\"MLP svm\")\n",
    "show_results()"
   ]
  },
  {
   "cell_type": "code",
   "execution_count": 88,
   "id": "a4f2f213-079f-402c-b3c4-a8bcf6f6de26",
   "metadata": {},
   "outputs": [
    {
     "name": "stdout",
     "output_type": "stream",
     "text": [
      "MLP magic\n"
     ]
    },
    {
     "data": {
      "text/plain": [
       "(6362.7,\n",
       " 480.8614249448587,\n",
       " array([6612., 5918., 5977., 6122., 6491., 6110., 6761., 5970., 5865.,\n",
       "        5894., 6348., 6693., 6501., 7997., 6693., 5946., 6675., 6119.,\n",
       "        6131., 6431.]))"
      ]
     },
     "execution_count": 88,
     "metadata": {},
     "output_type": "execute_result"
    }
   ],
   "source": [
    "print(\"MLP magic\")\n",
    "def show_results():\n",
    "    data = []\n",
    "    row = []\n",
    "    row = []\n",
    "    for seed in list(np.arange(20)):\n",
    "        row.append(pd.read_csv(\n",
    "        f'http://127.0.0.1:6006/data/plugin/scalars/scalars?tag=train%2Fcumulative_error_step&run=model%3Dmodel.OnlineMLP-backbone%3Dmodules.MLP-lr%3D0.0005-width%3D100-layers%3D3-loss%3Dtorch.nn.CrossEntropyLoss-seed%3D{seed}&format=csv'\n",
    "        )['Value'].iloc[-1])\n",
    "    row = np.array(row)\n",
    "    return row.mean(), row.std(), row\n",
    "show_results()"
   ]
  },
  {
   "cell_type": "code",
   "execution_count": 90,
   "id": "72541dfc-af86-4a69-bec7-801c6495d43b",
   "metadata": {},
   "outputs": [
    {
     "name": "stdout",
     "output_type": "stream",
     "text": [
      "MLP a8a\n"
     ]
    },
    {
     "data": {
      "text/plain": [
       "(5969.35,\n",
       " 48.16770183432047,\n",
       " array([5947., 5973., 5963., 6011., 5895., 5948., 6007., 6034., 5996.,\n",
       "        5879., 5952., 5980., 5922., 5927., 6020., 6004., 6067., 5903.,\n",
       "        5954., 6005.]))"
      ]
     },
     "execution_count": 90,
     "metadata": {},
     "output_type": "execute_result"
    }
   ],
   "source": [
    "print(\"MLP a8a\")\n",
    "def show_results():\n",
    "    data = []\n",
    "    row = []\n",
    "    row = []\n",
    "    for seed in list(np.arange(20)):\n",
    "        row.append(pd.read_csv(\n",
    "        f'http://127.0.0.1:6006/data/plugin/scalars/scalars?tag=train%2Fcumulative_error_step&run=model%3Dmodel.OnlineMLP-backbone%3Dmodules.MLP-lr%3D0.01-width%3D250-layers%3D3-loss%3Dtorch.nn.CrossEntropyLoss-seed%3D{seed}&format=csv'\n",
    "        )['Value'].iloc[-1])\n",
    "    row = np.array(row)\n",
    "    return row.mean(), row.std(), row\n",
    "show_results()"
   ]
  },
  {
   "cell_type": "code",
   "execution_count": 102,
   "id": "89ef0c33-9117-480c-b3f5-1149837ee2d7",
   "metadata": {},
   "outputs": [
    {
     "name": "stdout",
     "output_type": "stream",
     "text": [
      "SUSY\n"
     ]
    },
    {
     "data": {
      "text/html": [
       "<div>\n",
       "<style scoped>\n",
       "    .dataframe tbody tr th:only-of-type {\n",
       "        vertical-align: middle;\n",
       "    }\n",
       "\n",
       "    .dataframe tbody tr th {\n",
       "        vertical-align: top;\n",
       "    }\n",
       "\n",
       "    .dataframe thead th {\n",
       "        text-align: right;\n",
       "    }\n",
       "</style>\n",
       "<table border=\"1\" class=\"dataframe\">\n",
       "  <thead>\n",
       "    <tr style=\"text-align: right;\">\n",
       "      <th></th>\n",
       "      <th>average error</th>\n",
       "      <th>error std</th>\n",
       "    </tr>\n",
       "    <tr>\n",
       "      <th>p</th>\n",
       "      <th></th>\n",
       "      <th></th>\n",
       "    </tr>\n",
       "  </thead>\n",
       "  <tbody>\n",
       "    <tr>\n",
       "      <th>0.01</th>\n",
       "      <td>287647.333333</td>\n",
       "      <td>501.178833</td>\n",
       "    </tr>\n",
       "    <tr>\n",
       "      <th>0.05</th>\n",
       "      <td>287163.000000</td>\n",
       "      <td>676.825433</td>\n",
       "    </tr>\n",
       "    <tr>\n",
       "      <th>0.10</th>\n",
       "      <td>285962.333333</td>\n",
       "      <td>710.658067</td>\n",
       "    </tr>\n",
       "    <tr>\n",
       "      <th>0.20</th>\n",
       "      <td>283194.666667</td>\n",
       "      <td>713.653666</td>\n",
       "    </tr>\n",
       "    <tr>\n",
       "      <th>0.30</th>\n",
       "      <td>280480.333333</td>\n",
       "      <td>916.649818</td>\n",
       "    </tr>\n",
       "    <tr>\n",
       "      <th>0.40</th>\n",
       "      <td>276864.666667</td>\n",
       "      <td>883.204896</td>\n",
       "    </tr>\n",
       "    <tr>\n",
       "      <th>0.50</th>\n",
       "      <td>272788.000000</td>\n",
       "      <td>907.220297</td>\n",
       "    </tr>\n",
       "    <tr>\n",
       "      <th>0.60</th>\n",
       "      <td>267710.666667</td>\n",
       "      <td>913.696278</td>\n",
       "    </tr>\n",
       "    <tr>\n",
       "      <th>0.70</th>\n",
       "      <td>261558.666667</td>\n",
       "      <td>983.865280</td>\n",
       "    </tr>\n",
       "    <tr>\n",
       "      <th>0.80</th>\n",
       "      <td>253323.666667</td>\n",
       "      <td>1037.535970</td>\n",
       "    </tr>\n",
       "    <tr>\n",
       "      <th>0.90</th>\n",
       "      <td>241557.000000</td>\n",
       "      <td>1122.227547</td>\n",
       "    </tr>\n",
       "    <tr>\n",
       "      <th>0.95</th>\n",
       "      <td>234721.000000</td>\n",
       "      <td>1199.581038</td>\n",
       "    </tr>\n",
       "    <tr>\n",
       "      <th>0.99</th>\n",
       "      <td>228270.000000</td>\n",
       "      <td>1220.881922</td>\n",
       "    </tr>\n",
       "  </tbody>\n",
       "</table>\n",
       "</div>"
      ],
      "text/plain": [
       "      average error    error std\n",
       "p                               \n",
       "0.01  287647.333333   501.178833\n",
       "0.05  287163.000000   676.825433\n",
       "0.10  285962.333333   710.658067\n",
       "0.20  283194.666667   713.653666\n",
       "0.30  280480.333333   916.649818\n",
       "0.40  276864.666667   883.204896\n",
       "0.50  272788.000000   907.220297\n",
       "0.60  267710.666667   913.696278\n",
       "0.70  261558.666667   983.865280\n",
       "0.80  253323.666667  1037.535970\n",
       "0.90  241557.000000  1122.227547\n",
       "0.95  234721.000000  1199.581038\n",
       "0.99  228270.000000  1220.881922"
      ]
     },
     "execution_count": 102,
     "metadata": {},
     "output_type": "execute_result"
    }
   ],
   "source": [
    "print(\"SUSY\")\n",
    "def show_results():\n",
    "    vals = [0.01, 0.05, 0.1, 0.2, 0.3, 0.4, 0.5, 0.6, 0.7, 0.8, 0.9, 0.95, 0.99]\n",
    "    data = []\n",
    "    row = []\n",
    "    for p_val in vals:\n",
    "        row = []\n",
    "        for seed in [0, 1, 2]:\n",
    "            row.append(pd.read_csv(\n",
    "                # f'http://127.0.0.1:6006/data/plugin/scalars/scalars?tag=train%2Fcumulative_error_step&run=model%3Dmodel.OnlineMLP-backbone%3Dmodules.MLP-lr%3D0.0001-width%3D250-layers%3D3-loss%3Dtorch.nn.CrossEntropyLoss-seed%3D2-p0.05&format=csv'\n",
    "                f'http://127.0.0.1:6006/data/plugin/scalars/scalars?tag=train%2Fcumulative_error_step&run=model%3Dmodel.OnlineMLP-backbone%3Dmodules.MLP-lr%3D0.0001-width%3D250-layers%3D3-loss%3Dtorch.nn.CrossEntropyLoss-seed%3D{seed}-p{p_val}&format=csv'\n",
    "                # f'http://127.0.0.1:6006/data/plugin/scalars/scalars?tag=train%2Fcumulative_error_step&run=model%3Dmodel.OnlineMLP-backbone%3Dmodules.MLP-lr%3D0.0001-width%3D250-layers%3D3-loss%3Dtorch.nn.CrossEntropyLoss-seed%3D{seed}-p%3D{p_val}&format=csv'\n",
    "            )['Value'].iloc[-1])\n",
    "        data.append([p_val, np.array(row).mean(), np.array(row).std()])\n",
    "    results = pd.DataFrame(data, columns=[\"p\", \"average error\", \"error std\"])\n",
    "    results = results.set_index(\"p\") \n",
    "    return results\n",
    "show_results()   "
   ]
  },
  {
   "cell_type": "code",
   "execution_count": 105,
   "id": "68c5bfd9-c51f-4264-b70f-70eef7b0b682",
   "metadata": {},
   "outputs": [
    {
     "name": "stdout",
     "output_type": "stream",
     "text": [
      "HIGGS\n"
     ]
    },
    {
     "data": {
      "text/html": [
       "<div>\n",
       "<style scoped>\n",
       "    .dataframe tbody tr th:only-of-type {\n",
       "        vertical-align: middle;\n",
       "    }\n",
       "\n",
       "    .dataframe tbody tr th {\n",
       "        vertical-align: top;\n",
       "    }\n",
       "\n",
       "    .dataframe thead th {\n",
       "        text-align: right;\n",
       "    }\n",
       "</style>\n",
       "<table border=\"1\" class=\"dataframe\">\n",
       "  <thead>\n",
       "    <tr style=\"text-align: right;\">\n",
       "      <th></th>\n",
       "      <th>average error</th>\n",
       "      <th>error std</th>\n",
       "    </tr>\n",
       "    <tr>\n",
       "      <th>p</th>\n",
       "      <th></th>\n",
       "      <th></th>\n",
       "    </tr>\n",
       "  </thead>\n",
       "  <tbody>\n",
       "    <tr>\n",
       "      <th>0.01</th>\n",
       "      <td>450025.000000</td>\n",
       "      <td>280.643309</td>\n",
       "    </tr>\n",
       "    <tr>\n",
       "      <th>0.05</th>\n",
       "      <td>450456.666667</td>\n",
       "      <td>287.613552</td>\n",
       "    </tr>\n",
       "    <tr>\n",
       "      <th>0.10</th>\n",
       "      <td>451150.000000</td>\n",
       "      <td>179.901825</td>\n",
       "    </tr>\n",
       "    <tr>\n",
       "      <th>0.20</th>\n",
       "      <td>451894.333333</td>\n",
       "      <td>99.110488</td>\n",
       "    </tr>\n",
       "    <tr>\n",
       "      <th>0.30</th>\n",
       "      <td>451843.333333</td>\n",
       "      <td>248.978357</td>\n",
       "    </tr>\n",
       "    <tr>\n",
       "      <th>0.40</th>\n",
       "      <td>451736.666667</td>\n",
       "      <td>351.695260</td>\n",
       "    </tr>\n",
       "    <tr>\n",
       "      <th>0.50</th>\n",
       "      <td>451287.333333</td>\n",
       "      <td>225.355029</td>\n",
       "    </tr>\n",
       "    <tr>\n",
       "      <th>0.60</th>\n",
       "      <td>449713.666667</td>\n",
       "      <td>573.195914</td>\n",
       "    </tr>\n",
       "    <tr>\n",
       "      <th>0.70</th>\n",
       "      <td>447850.000000</td>\n",
       "      <td>656.917549</td>\n",
       "    </tr>\n",
       "    <tr>\n",
       "      <th>0.80</th>\n",
       "      <td>444418.000000</td>\n",
       "      <td>695.150343</td>\n",
       "    </tr>\n",
       "    <tr>\n",
       "      <th>0.90</th>\n",
       "      <td>440362.000000</td>\n",
       "      <td>422.616453</td>\n",
       "    </tr>\n",
       "    <tr>\n",
       "      <th>0.95</th>\n",
       "      <td>437508.666667</td>\n",
       "      <td>915.262561</td>\n",
       "    </tr>\n",
       "    <tr>\n",
       "      <th>0.99</th>\n",
       "      <td>434480.666667</td>\n",
       "      <td>676.466473</td>\n",
       "    </tr>\n",
       "  </tbody>\n",
       "</table>\n",
       "</div>"
      ],
      "text/plain": [
       "      average error   error std\n",
       "p                              \n",
       "0.01  450025.000000  280.643309\n",
       "0.05  450456.666667  287.613552\n",
       "0.10  451150.000000  179.901825\n",
       "0.20  451894.333333   99.110488\n",
       "0.30  451843.333333  248.978357\n",
       "0.40  451736.666667  351.695260\n",
       "0.50  451287.333333  225.355029\n",
       "0.60  449713.666667  573.195914\n",
       "0.70  447850.000000  656.917549\n",
       "0.80  444418.000000  695.150343\n",
       "0.90  440362.000000  422.616453\n",
       "0.95  437508.666667  915.262561\n",
       "0.99  434480.666667  676.466473"
      ]
     },
     "execution_count": 105,
     "metadata": {},
     "output_type": "execute_result"
    }
   ],
   "source": [
    "print(\"HIGGS\")\n",
    "show_results()"
   ]
  },
  {
   "cell_type": "code",
   "execution_count": null,
   "id": "6324c901-8d1e-4cf0-80ac-2b03fea42248",
   "metadata": {},
   "outputs": [],
   "source": []
  },
  {
   "cell_type": "code",
   "execution_count": null,
   "id": "e9f9d778-cdca-46f3-a6ab-e93ceb3d003e",
   "metadata": {},
   "outputs": [],
   "source": []
  },
  {
   "cell_type": "code",
   "execution_count": null,
   "id": "48ab7dec-c021-403a-951a-78776ddfb7d7",
   "metadata": {},
   "outputs": [],
   "source": []
  },
  {
   "cell_type": "code",
   "execution_count": null,
   "id": "ef5b1b1f-99ee-495c-82bc-c0c717b9888d",
   "metadata": {},
   "outputs": [],
   "source": []
  },
  {
   "cell_type": "code",
   "execution_count": null,
   "id": "40f986aa-61b9-4ac3-8217-a1f3850c3504",
   "metadata": {},
   "outputs": [],
   "source": []
  },
  {
   "cell_type": "code",
   "execution_count": null,
   "id": "2fa9e02e-6818-49de-b2ef-9b076c0bf183",
   "metadata": {},
   "outputs": [],
   "source": []
  },
  {
   "cell_type": "code",
   "execution_count": 107,
   "id": "55418562-20d1-4edc-b2d3-e951c778c5f0",
   "metadata": {},
   "outputs": [],
   "source": [
    "## Mixture"
   ]
  },
  {
   "cell_type": "code",
   "execution_count": 116,
   "id": "f1e5bc0a-3640-4a29-8525-7e0993b5b5f2",
   "metadata": {},
   "outputs": [
    {
     "name": "stdout",
     "output_type": "stream",
     "text": [
      "Mixture german\n"
     ]
    },
    {
     "data": {
      "text/plain": [
       "(277.1,\n",
       " 11.962023240238251,\n",
       " array([263., 267., 289., 291., 280., 284., 300., 265., 265., 276., 271.,\n",
       "        305., 269., 263., 267., 283., 277., 275., 268., 284.]))"
      ]
     },
     "execution_count": 116,
     "metadata": {},
     "output_type": "execute_result"
    }
   ],
   "source": [
    "print(\"Mixture german\")\n",
    "def show_results():\n",
    "    data = []\n",
    "    row = []\n",
    "    row = []\n",
    "    for seed in list(np.arange(20)):\n",
    "        row.append(pd.read_csv(\n",
    "        f'http://127.0.0.1:6006/data/plugin/scalars/scalars?tag=train%2Fcumulative_error_step&run=model%3Dmodel.OnlineMoE-backbone%3Dmodules.MLP-lr%3D0.001-width%3D250-layers%3D3-loss%3Dtorch.nn.CrossEntropyLoss-seed%3D{seed}&format=csv'\n",
    "        )['Value'].iloc[-1])\n",
    "    row = np.array(row)\n",
    "    return row.mean(), row.std(), row\n",
    "show_results()"
   ]
  },
  {
   "cell_type": "code",
   "execution_count": 118,
   "id": "77fc81a8-5328-422b-ba68-bb9048a94116",
   "metadata": {},
   "outputs": [
    {
     "name": "stdout",
     "output_type": "stream",
     "text": [
      "Mixture svm\n"
     ]
    },
    {
     "data": {
      "text/plain": [
       "(296.3,\n",
       " 0.6403124237432849,\n",
       " array([296., 297., 297., 297., 296., 297., 296., 295., 297., 297., 296.,\n",
       "        296., 296., 295., 297., 296., 296., 297., 296., 296.]))"
      ]
     },
     "execution_count": 118,
     "metadata": {},
     "output_type": "execute_result"
    }
   ],
   "source": [
    "print(\"Mixture svm\")\n",
    "def show_results():\n",
    "    data = []\n",
    "    row = []\n",
    "    row = []\n",
    "    for seed in list(np.arange(20)):\n",
    "        row.append(pd.read_csv(\n",
    "        f'http://127.0.0.1:6006/data/plugin/scalars/scalars?tag=train%2Fcumulative_error_step&run=model%3Dmodel.OnlineMoE-backbone%3Dmodules.MLP-lr%3D0.01-width%3D250-layers%3D3-loss%3Dtorch.nn.CrossEntropyLoss-seed%3D{seed}&format=csv'\n",
    "        )['Value'].iloc[-1])\n",
    "    row = np.array(row)\n",
    "    return row.mean(), row.std(), row\n",
    "show_results()"
   ]
  },
  {
   "cell_type": "code",
   "execution_count": 122,
   "id": "ab869b21-9f0a-402f-8c46-7103d4ff9a36",
   "metadata": {},
   "outputs": [
    {
     "name": "stdout",
     "output_type": "stream",
     "text": [
      "Mixture magic\n"
     ]
    },
    {
     "data": {
      "text/plain": [
       "(5441.4,\n",
       " 274.32396905848384,\n",
       " array([5122., 5710., 5678., 5713., 5284., 5646., 5508., 5824., 5442.,\n",
       "        5023., 5910., 5297., 5454., 5026., 5355., 5443., 5205., 5096.,\n",
       "        5855., 5237.]))"
      ]
     },
     "execution_count": 122,
     "metadata": {},
     "output_type": "execute_result"
    }
   ],
   "source": [
    "print(\"Mixture magic\")\n",
    "def show_results():\n",
    "    data = []\n",
    "    row = []\n",
    "    row = []\n",
    "    for seed in list(np.arange(20)):\n",
    "        row.append(pd.read_csv(\n",
    "        f'http://127.0.0.1:6006/data/plugin/scalars/scalars?tag=train%2Fcumulative_error_step&run=model%3Dmodel.OnlineMoE-backbone%3Dmodules.MLP-lr%3D0.0005-width%3D100-layers%3D3-loss%3Dtorch.nn.CrossEntropyLoss-seed%3D{seed}&format=csv'\n",
    "        )['Value'].iloc[-1])\n",
    "    row = np.array(row)\n",
    "    return row.mean(), row.std(), row\n",
    "show_results()"
   ]
  },
  {
   "cell_type": "code",
   "execution_count": 110,
   "id": "4c381b2b-73a4-44c5-bd49-cf6e4aa00a32",
   "metadata": {},
   "outputs": [
    {
     "name": "stdout",
     "output_type": "stream",
     "text": [
      "Mixture a8a\n"
     ]
    },
    {
     "data": {
      "text/plain": [
       "(5928.05,\n",
       " 41.55294815052236,\n",
       " array([5947., 5909., 5883., 5950., 5852., 5941., 5956., 5983., 5963.,\n",
       "        5854., 5931., 5943., 5864., 5904., 5944., 5971., 5974., 5874.,\n",
       "        5938., 5980.]))"
      ]
     },
     "execution_count": 110,
     "metadata": {},
     "output_type": "execute_result"
    }
   ],
   "source": [
    "print(\"Mixture a8a\")\n",
    "def show_results():\n",
    "    data = []\n",
    "    row = []\n",
    "    row = []\n",
    "    for seed in list(np.arange(20)):\n",
    "        row.append(pd.read_csv(\n",
    "        f'http://127.0.0.1:6006/data/plugin/scalars/scalars?tag=train%2Fcumulative_error_step&run=model%3Dmodel.OnlineMoE-backbone%3Dmodules.MLP-lr%3D0.01-width%3D250-layers%3D3-loss%3Dtorch.nn.CrossEntropyLoss-seed%3D{seed}&format=csv'\n",
    "        )['Value'].iloc[-1])\n",
    "    row = np.array(row)\n",
    "    return row.mean(), row.std(), row\n",
    "show_results()"
   ]
  },
  {
   "cell_type": "code",
   "execution_count": null,
   "id": "8997e4ee-b9ad-4d8f-84bf-4a4daf45f094",
   "metadata": {},
   "outputs": [],
   "source": []
  },
  {
   "cell_type": "code",
   "execution_count": null,
   "id": "a7857af0-db09-482a-ae79-f540d8806848",
   "metadata": {},
   "outputs": [],
   "source": []
  },
  {
   "cell_type": "code",
   "execution_count": null,
   "id": "301e5000-8f58-4290-b9ca-83787b02df47",
   "metadata": {},
   "outputs": [],
   "source": []
  },
  {
   "cell_type": "code",
   "execution_count": null,
   "id": "fbf75d2d-b050-4bb7-9be8-534274f0bf36",
   "metadata": {},
   "outputs": [],
   "source": []
  },
  {
   "cell_type": "code",
   "execution_count": null,
   "id": "dd08c474-ad29-4a93-8663-bd41bd34fea8",
   "metadata": {},
   "outputs": [],
   "source": []
  },
  {
   "cell_type": "code",
   "execution_count": null,
   "id": "b5313e7c-5572-4df1-adc2-061d4dd23042",
   "metadata": {},
   "outputs": [],
   "source": []
  },
  {
   "cell_type": "code",
   "execution_count": 166,
   "id": "4a90e512-5719-44c6-ac3e-50a75be53036",
   "metadata": {},
   "outputs": [
    {
     "name": "stdout",
     "output_type": "stream",
     "text": [
      "sum german\n"
     ]
    },
    {
     "data": {
      "text/plain": [
       "(287.25,\n",
       " 6.94172168845741,\n",
       " array([285., 290., 286., 291., 294., 291., 302., 287., 287., 288., 274.,\n",
       "        300., 295., 289., 280., 281., 281., 280., 279., 285.]))"
      ]
     },
     "execution_count": 166,
     "metadata": {},
     "output_type": "execute_result"
    }
   ],
   "source": [
    "print(\"sum german\")\n",
    "def show_results():\n",
    "    data = []\n",
    "    row = []\n",
    "    row = []\n",
    "    for seed in list(np.arange(20)):\n",
    "        row.append(pd.read_csv(\n",
    "        f'http://127.0.0.1:6006/data/plugin/scalars/scalars?tag=train%2Fcumulative_error_step&run=model%3Dmodel.OnlineMoE-backbone%3Dmodules.MLP-lr%3D0.001-width%3D250-layers%3D3-loss%3Dtorch.nn.CrossEntropyLoss-seed%3D{seed}&format=csv'\n",
    "        )['Value'].iloc[-1])\n",
    "    row = np.array(row)\n",
    "    return row.mean(), row.std(), row\n",
    "show_results()"
   ]
  },
  {
   "cell_type": "code",
   "execution_count": 168,
   "id": "b19afcf3-0253-4d1e-9c1b-3ef254fba382",
   "metadata": {},
   "outputs": [
    {
     "name": "stdout",
     "output_type": "stream",
     "text": [
      "sum svm\n"
     ]
    },
    {
     "ename": "HTTPError",
     "evalue": "HTTP Error 404: NOT FOUND",
     "output_type": "error",
     "traceback": [
      "\u001b[0;31m---------------------------------------------------------------------------\u001b[0m",
      "\u001b[0;31mHTTPError\u001b[0m                                 Traceback (most recent call last)",
      "Cell \u001b[0;32mIn[168], line 12\u001b[0m\n\u001b[1;32m     10\u001b[0m     row \u001b[38;5;241m=\u001b[39m np\u001b[38;5;241m.\u001b[39marray(row)\n\u001b[1;32m     11\u001b[0m     \u001b[38;5;28;01mreturn\u001b[39;00m row\u001b[38;5;241m.\u001b[39mmean(), row\u001b[38;5;241m.\u001b[39mstd(), row\n\u001b[0;32m---> 12\u001b[0m \u001b[43mshow_results\u001b[49m\u001b[43m(\u001b[49m\u001b[43m)\u001b[49m\n",
      "Cell \u001b[0;32mIn[168], line 7\u001b[0m, in \u001b[0;36mshow_results\u001b[0;34m()\u001b[0m\n\u001b[1;32m      5\u001b[0m row \u001b[38;5;241m=\u001b[39m []\n\u001b[1;32m      6\u001b[0m \u001b[38;5;28;01mfor\u001b[39;00m seed \u001b[38;5;129;01min\u001b[39;00m \u001b[38;5;28mlist\u001b[39m(np\u001b[38;5;241m.\u001b[39marange(\u001b[38;5;241m20\u001b[39m)):\n\u001b[0;32m----> 7\u001b[0m     row\u001b[38;5;241m.\u001b[39mappend(\u001b[43mpd\u001b[49m\u001b[38;5;241;43m.\u001b[39;49m\u001b[43mread_csv\u001b[49m\u001b[43m(\u001b[49m\n\u001b[1;32m      8\u001b[0m \u001b[43m    \u001b[49m\u001b[38;5;124;43mf\u001b[39;49m\u001b[38;5;124;43m'\u001b[39;49m\u001b[38;5;124;43mhttp://127.0.0.1:6006/data/plugin/scalars/scalars?tag=train%2Fcumulative_error_step&run=model%3Dmodel.OnlineMoE-backbone%3Dmodules.MLP-lr%3D0.01-width%3D250-layers%3D3-loss%3Dtorch.nn.CrossEntropyLoss-seed%3D\u001b[39;49m\u001b[38;5;132;43;01m{\u001b[39;49;00m\u001b[43mseed\u001b[49m\u001b[38;5;132;43;01m}\u001b[39;49;00m\u001b[38;5;124;43m&format=csv\u001b[39;49m\u001b[38;5;124;43m'\u001b[39;49m\n\u001b[1;32m      9\u001b[0m \u001b[43m    \u001b[49m\u001b[43m)\u001b[49m[\u001b[38;5;124m'\u001b[39m\u001b[38;5;124mValue\u001b[39m\u001b[38;5;124m'\u001b[39m]\u001b[38;5;241m.\u001b[39miloc[\u001b[38;5;241m-\u001b[39m\u001b[38;5;241m1\u001b[39m])\n\u001b[1;32m     10\u001b[0m row \u001b[38;5;241m=\u001b[39m np\u001b[38;5;241m.\u001b[39marray(row)\n\u001b[1;32m     11\u001b[0m \u001b[38;5;28;01mreturn\u001b[39;00m row\u001b[38;5;241m.\u001b[39mmean(), row\u001b[38;5;241m.\u001b[39mstd(), row\n",
      "File \u001b[0;32m/opt/conda/lib/python3.9/site-packages/pandas/io/parsers/readers.py:948\u001b[0m, in \u001b[0;36mread_csv\u001b[0;34m(filepath_or_buffer, sep, delimiter, header, names, index_col, usecols, dtype, engine, converters, true_values, false_values, skipinitialspace, skiprows, skipfooter, nrows, na_values, keep_default_na, na_filter, verbose, skip_blank_lines, parse_dates, infer_datetime_format, keep_date_col, date_parser, date_format, dayfirst, cache_dates, iterator, chunksize, compression, thousands, decimal, lineterminator, quotechar, quoting, doublequote, escapechar, comment, encoding, encoding_errors, dialect, on_bad_lines, delim_whitespace, low_memory, memory_map, float_precision, storage_options, dtype_backend)\u001b[0m\n\u001b[1;32m    935\u001b[0m kwds_defaults \u001b[38;5;241m=\u001b[39m _refine_defaults_read(\n\u001b[1;32m    936\u001b[0m     dialect,\n\u001b[1;32m    937\u001b[0m     delimiter,\n\u001b[0;32m   (...)\u001b[0m\n\u001b[1;32m    944\u001b[0m     dtype_backend\u001b[38;5;241m=\u001b[39mdtype_backend,\n\u001b[1;32m    945\u001b[0m )\n\u001b[1;32m    946\u001b[0m kwds\u001b[38;5;241m.\u001b[39mupdate(kwds_defaults)\n\u001b[0;32m--> 948\u001b[0m \u001b[38;5;28;01mreturn\u001b[39;00m \u001b[43m_read\u001b[49m\u001b[43m(\u001b[49m\u001b[43mfilepath_or_buffer\u001b[49m\u001b[43m,\u001b[49m\u001b[43m \u001b[49m\u001b[43mkwds\u001b[49m\u001b[43m)\u001b[49m\n",
      "File \u001b[0;32m/opt/conda/lib/python3.9/site-packages/pandas/io/parsers/readers.py:611\u001b[0m, in \u001b[0;36m_read\u001b[0;34m(filepath_or_buffer, kwds)\u001b[0m\n\u001b[1;32m    608\u001b[0m _validate_names(kwds\u001b[38;5;241m.\u001b[39mget(\u001b[38;5;124m\"\u001b[39m\u001b[38;5;124mnames\u001b[39m\u001b[38;5;124m\"\u001b[39m, \u001b[38;5;28;01mNone\u001b[39;00m))\n\u001b[1;32m    610\u001b[0m \u001b[38;5;66;03m# Create the parser.\u001b[39;00m\n\u001b[0;32m--> 611\u001b[0m parser \u001b[38;5;241m=\u001b[39m \u001b[43mTextFileReader\u001b[49m\u001b[43m(\u001b[49m\u001b[43mfilepath_or_buffer\u001b[49m\u001b[43m,\u001b[49m\u001b[43m \u001b[49m\u001b[38;5;241;43m*\u001b[39;49m\u001b[38;5;241;43m*\u001b[39;49m\u001b[43mkwds\u001b[49m\u001b[43m)\u001b[49m\n\u001b[1;32m    613\u001b[0m \u001b[38;5;28;01mif\u001b[39;00m chunksize \u001b[38;5;129;01mor\u001b[39;00m iterator:\n\u001b[1;32m    614\u001b[0m     \u001b[38;5;28;01mreturn\u001b[39;00m parser\n",
      "File \u001b[0;32m/opt/conda/lib/python3.9/site-packages/pandas/io/parsers/readers.py:1448\u001b[0m, in \u001b[0;36mTextFileReader.__init__\u001b[0;34m(self, f, engine, **kwds)\u001b[0m\n\u001b[1;32m   1445\u001b[0m     \u001b[38;5;28mself\u001b[39m\u001b[38;5;241m.\u001b[39moptions[\u001b[38;5;124m\"\u001b[39m\u001b[38;5;124mhas_index_names\u001b[39m\u001b[38;5;124m\"\u001b[39m] \u001b[38;5;241m=\u001b[39m kwds[\u001b[38;5;124m\"\u001b[39m\u001b[38;5;124mhas_index_names\u001b[39m\u001b[38;5;124m\"\u001b[39m]\n\u001b[1;32m   1447\u001b[0m \u001b[38;5;28mself\u001b[39m\u001b[38;5;241m.\u001b[39mhandles: IOHandles \u001b[38;5;241m|\u001b[39m \u001b[38;5;28;01mNone\u001b[39;00m \u001b[38;5;241m=\u001b[39m \u001b[38;5;28;01mNone\u001b[39;00m\n\u001b[0;32m-> 1448\u001b[0m \u001b[38;5;28mself\u001b[39m\u001b[38;5;241m.\u001b[39m_engine \u001b[38;5;241m=\u001b[39m \u001b[38;5;28;43mself\u001b[39;49m\u001b[38;5;241;43m.\u001b[39;49m\u001b[43m_make_engine\u001b[49m\u001b[43m(\u001b[49m\u001b[43mf\u001b[49m\u001b[43m,\u001b[49m\u001b[43m \u001b[49m\u001b[38;5;28;43mself\u001b[39;49m\u001b[38;5;241;43m.\u001b[39;49m\u001b[43mengine\u001b[49m\u001b[43m)\u001b[49m\n",
      "File \u001b[0;32m/opt/conda/lib/python3.9/site-packages/pandas/io/parsers/readers.py:1705\u001b[0m, in \u001b[0;36mTextFileReader._make_engine\u001b[0;34m(self, f, engine)\u001b[0m\n\u001b[1;32m   1703\u001b[0m     \u001b[38;5;28;01mif\u001b[39;00m \u001b[38;5;124m\"\u001b[39m\u001b[38;5;124mb\u001b[39m\u001b[38;5;124m\"\u001b[39m \u001b[38;5;129;01mnot\u001b[39;00m \u001b[38;5;129;01min\u001b[39;00m mode:\n\u001b[1;32m   1704\u001b[0m         mode \u001b[38;5;241m+\u001b[39m\u001b[38;5;241m=\u001b[39m \u001b[38;5;124m\"\u001b[39m\u001b[38;5;124mb\u001b[39m\u001b[38;5;124m\"\u001b[39m\n\u001b[0;32m-> 1705\u001b[0m \u001b[38;5;28mself\u001b[39m\u001b[38;5;241m.\u001b[39mhandles \u001b[38;5;241m=\u001b[39m \u001b[43mget_handle\u001b[49m\u001b[43m(\u001b[49m\n\u001b[1;32m   1706\u001b[0m \u001b[43m    \u001b[49m\u001b[43mf\u001b[49m\u001b[43m,\u001b[49m\n\u001b[1;32m   1707\u001b[0m \u001b[43m    \u001b[49m\u001b[43mmode\u001b[49m\u001b[43m,\u001b[49m\n\u001b[1;32m   1708\u001b[0m \u001b[43m    \u001b[49m\u001b[43mencoding\u001b[49m\u001b[38;5;241;43m=\u001b[39;49m\u001b[38;5;28;43mself\u001b[39;49m\u001b[38;5;241;43m.\u001b[39;49m\u001b[43moptions\u001b[49m\u001b[38;5;241;43m.\u001b[39;49m\u001b[43mget\u001b[49m\u001b[43m(\u001b[49m\u001b[38;5;124;43m\"\u001b[39;49m\u001b[38;5;124;43mencoding\u001b[39;49m\u001b[38;5;124;43m\"\u001b[39;49m\u001b[43m,\u001b[49m\u001b[43m \u001b[49m\u001b[38;5;28;43;01mNone\u001b[39;49;00m\u001b[43m)\u001b[49m\u001b[43m,\u001b[49m\n\u001b[1;32m   1709\u001b[0m \u001b[43m    \u001b[49m\u001b[43mcompression\u001b[49m\u001b[38;5;241;43m=\u001b[39;49m\u001b[38;5;28;43mself\u001b[39;49m\u001b[38;5;241;43m.\u001b[39;49m\u001b[43moptions\u001b[49m\u001b[38;5;241;43m.\u001b[39;49m\u001b[43mget\u001b[49m\u001b[43m(\u001b[49m\u001b[38;5;124;43m\"\u001b[39;49m\u001b[38;5;124;43mcompression\u001b[39;49m\u001b[38;5;124;43m\"\u001b[39;49m\u001b[43m,\u001b[49m\u001b[43m \u001b[49m\u001b[38;5;28;43;01mNone\u001b[39;49;00m\u001b[43m)\u001b[49m\u001b[43m,\u001b[49m\n\u001b[1;32m   1710\u001b[0m \u001b[43m    \u001b[49m\u001b[43mmemory_map\u001b[49m\u001b[38;5;241;43m=\u001b[39;49m\u001b[38;5;28;43mself\u001b[39;49m\u001b[38;5;241;43m.\u001b[39;49m\u001b[43moptions\u001b[49m\u001b[38;5;241;43m.\u001b[39;49m\u001b[43mget\u001b[49m\u001b[43m(\u001b[49m\u001b[38;5;124;43m\"\u001b[39;49m\u001b[38;5;124;43mmemory_map\u001b[39;49m\u001b[38;5;124;43m\"\u001b[39;49m\u001b[43m,\u001b[49m\u001b[43m \u001b[49m\u001b[38;5;28;43;01mFalse\u001b[39;49;00m\u001b[43m)\u001b[49m\u001b[43m,\u001b[49m\n\u001b[1;32m   1711\u001b[0m \u001b[43m    \u001b[49m\u001b[43mis_text\u001b[49m\u001b[38;5;241;43m=\u001b[39;49m\u001b[43mis_text\u001b[49m\u001b[43m,\u001b[49m\n\u001b[1;32m   1712\u001b[0m \u001b[43m    \u001b[49m\u001b[43merrors\u001b[49m\u001b[38;5;241;43m=\u001b[39;49m\u001b[38;5;28;43mself\u001b[39;49m\u001b[38;5;241;43m.\u001b[39;49m\u001b[43moptions\u001b[49m\u001b[38;5;241;43m.\u001b[39;49m\u001b[43mget\u001b[49m\u001b[43m(\u001b[49m\u001b[38;5;124;43m\"\u001b[39;49m\u001b[38;5;124;43mencoding_errors\u001b[39;49m\u001b[38;5;124;43m\"\u001b[39;49m\u001b[43m,\u001b[49m\u001b[43m \u001b[49m\u001b[38;5;124;43m\"\u001b[39;49m\u001b[38;5;124;43mstrict\u001b[39;49m\u001b[38;5;124;43m\"\u001b[39;49m\u001b[43m)\u001b[49m\u001b[43m,\u001b[49m\n\u001b[1;32m   1713\u001b[0m \u001b[43m    \u001b[49m\u001b[43mstorage_options\u001b[49m\u001b[38;5;241;43m=\u001b[39;49m\u001b[38;5;28;43mself\u001b[39;49m\u001b[38;5;241;43m.\u001b[39;49m\u001b[43moptions\u001b[49m\u001b[38;5;241;43m.\u001b[39;49m\u001b[43mget\u001b[49m\u001b[43m(\u001b[49m\u001b[38;5;124;43m\"\u001b[39;49m\u001b[38;5;124;43mstorage_options\u001b[39;49m\u001b[38;5;124;43m\"\u001b[39;49m\u001b[43m,\u001b[49m\u001b[43m \u001b[49m\u001b[38;5;28;43;01mNone\u001b[39;49;00m\u001b[43m)\u001b[49m\u001b[43m,\u001b[49m\n\u001b[1;32m   1714\u001b[0m \u001b[43m\u001b[49m\u001b[43m)\u001b[49m\n\u001b[1;32m   1715\u001b[0m \u001b[38;5;28;01massert\u001b[39;00m \u001b[38;5;28mself\u001b[39m\u001b[38;5;241m.\u001b[39mhandles \u001b[38;5;129;01mis\u001b[39;00m \u001b[38;5;129;01mnot\u001b[39;00m \u001b[38;5;28;01mNone\u001b[39;00m\n\u001b[1;32m   1716\u001b[0m f \u001b[38;5;241m=\u001b[39m \u001b[38;5;28mself\u001b[39m\u001b[38;5;241m.\u001b[39mhandles\u001b[38;5;241m.\u001b[39mhandle\n",
      "File \u001b[0;32m/opt/conda/lib/python3.9/site-packages/pandas/io/common.py:718\u001b[0m, in \u001b[0;36mget_handle\u001b[0;34m(path_or_buf, mode, encoding, compression, memory_map, is_text, errors, storage_options)\u001b[0m\n\u001b[1;32m    715\u001b[0m     codecs\u001b[38;5;241m.\u001b[39mlookup_error(errors)\n\u001b[1;32m    717\u001b[0m \u001b[38;5;66;03m# open URLs\u001b[39;00m\n\u001b[0;32m--> 718\u001b[0m ioargs \u001b[38;5;241m=\u001b[39m \u001b[43m_get_filepath_or_buffer\u001b[49m\u001b[43m(\u001b[49m\n\u001b[1;32m    719\u001b[0m \u001b[43m    \u001b[49m\u001b[43mpath_or_buf\u001b[49m\u001b[43m,\u001b[49m\n\u001b[1;32m    720\u001b[0m \u001b[43m    \u001b[49m\u001b[43mencoding\u001b[49m\u001b[38;5;241;43m=\u001b[39;49m\u001b[43mencoding\u001b[49m\u001b[43m,\u001b[49m\n\u001b[1;32m    721\u001b[0m \u001b[43m    \u001b[49m\u001b[43mcompression\u001b[49m\u001b[38;5;241;43m=\u001b[39;49m\u001b[43mcompression\u001b[49m\u001b[43m,\u001b[49m\n\u001b[1;32m    722\u001b[0m \u001b[43m    \u001b[49m\u001b[43mmode\u001b[49m\u001b[38;5;241;43m=\u001b[39;49m\u001b[43mmode\u001b[49m\u001b[43m,\u001b[49m\n\u001b[1;32m    723\u001b[0m \u001b[43m    \u001b[49m\u001b[43mstorage_options\u001b[49m\u001b[38;5;241;43m=\u001b[39;49m\u001b[43mstorage_options\u001b[49m\u001b[43m,\u001b[49m\n\u001b[1;32m    724\u001b[0m \u001b[43m\u001b[49m\u001b[43m)\u001b[49m\n\u001b[1;32m    726\u001b[0m handle \u001b[38;5;241m=\u001b[39m ioargs\u001b[38;5;241m.\u001b[39mfilepath_or_buffer\n\u001b[1;32m    727\u001b[0m handles: \u001b[38;5;28mlist\u001b[39m[BaseBuffer]\n",
      "File \u001b[0;32m/opt/conda/lib/python3.9/site-packages/pandas/io/common.py:372\u001b[0m, in \u001b[0;36m_get_filepath_or_buffer\u001b[0;34m(filepath_or_buffer, encoding, compression, mode, storage_options)\u001b[0m\n\u001b[1;32m    370\u001b[0m \u001b[38;5;66;03m# assuming storage_options is to be interpreted as headers\u001b[39;00m\n\u001b[1;32m    371\u001b[0m req_info \u001b[38;5;241m=\u001b[39m urllib\u001b[38;5;241m.\u001b[39mrequest\u001b[38;5;241m.\u001b[39mRequest(filepath_or_buffer, headers\u001b[38;5;241m=\u001b[39mstorage_options)\n\u001b[0;32m--> 372\u001b[0m \u001b[38;5;28;01mwith\u001b[39;00m \u001b[43murlopen\u001b[49m\u001b[43m(\u001b[49m\u001b[43mreq_info\u001b[49m\u001b[43m)\u001b[49m \u001b[38;5;28;01mas\u001b[39;00m req:\n\u001b[1;32m    373\u001b[0m     content_encoding \u001b[38;5;241m=\u001b[39m req\u001b[38;5;241m.\u001b[39mheaders\u001b[38;5;241m.\u001b[39mget(\u001b[38;5;124m\"\u001b[39m\u001b[38;5;124mContent-Encoding\u001b[39m\u001b[38;5;124m\"\u001b[39m, \u001b[38;5;28;01mNone\u001b[39;00m)\n\u001b[1;32m    374\u001b[0m     \u001b[38;5;28;01mif\u001b[39;00m content_encoding \u001b[38;5;241m==\u001b[39m \u001b[38;5;124m\"\u001b[39m\u001b[38;5;124mgzip\u001b[39m\u001b[38;5;124m\"\u001b[39m:\n\u001b[1;32m    375\u001b[0m         \u001b[38;5;66;03m# Override compression based on Content-Encoding header\u001b[39;00m\n",
      "File \u001b[0;32m/opt/conda/lib/python3.9/site-packages/pandas/io/common.py:274\u001b[0m, in \u001b[0;36murlopen\u001b[0;34m(*args, **kwargs)\u001b[0m\n\u001b[1;32m    268\u001b[0m \u001b[38;5;250m\u001b[39m\u001b[38;5;124;03m\"\"\"\u001b[39;00m\n\u001b[1;32m    269\u001b[0m \u001b[38;5;124;03mLazy-import wrapper for stdlib urlopen, as that imports a big chunk of\u001b[39;00m\n\u001b[1;32m    270\u001b[0m \u001b[38;5;124;03mthe stdlib.\u001b[39;00m\n\u001b[1;32m    271\u001b[0m \u001b[38;5;124;03m\"\"\"\u001b[39;00m\n\u001b[1;32m    272\u001b[0m \u001b[38;5;28;01mimport\u001b[39;00m \u001b[38;5;21;01murllib\u001b[39;00m\u001b[38;5;21;01m.\u001b[39;00m\u001b[38;5;21;01mrequest\u001b[39;00m\n\u001b[0;32m--> 274\u001b[0m \u001b[38;5;28;01mreturn\u001b[39;00m \u001b[43murllib\u001b[49m\u001b[38;5;241;43m.\u001b[39;49m\u001b[43mrequest\u001b[49m\u001b[38;5;241;43m.\u001b[39;49m\u001b[43murlopen\u001b[49m\u001b[43m(\u001b[49m\u001b[38;5;241;43m*\u001b[39;49m\u001b[43margs\u001b[49m\u001b[43m,\u001b[49m\u001b[43m \u001b[49m\u001b[38;5;241;43m*\u001b[39;49m\u001b[38;5;241;43m*\u001b[39;49m\u001b[43mkwargs\u001b[49m\u001b[43m)\u001b[49m\n",
      "File \u001b[0;32m/opt/conda/lib/python3.9/urllib/request.py:214\u001b[0m, in \u001b[0;36murlopen\u001b[0;34m(url, data, timeout, cafile, capath, cadefault, context)\u001b[0m\n\u001b[1;32m    212\u001b[0m \u001b[38;5;28;01melse\u001b[39;00m:\n\u001b[1;32m    213\u001b[0m     opener \u001b[38;5;241m=\u001b[39m _opener\n\u001b[0;32m--> 214\u001b[0m \u001b[38;5;28;01mreturn\u001b[39;00m \u001b[43mopener\u001b[49m\u001b[38;5;241;43m.\u001b[39;49m\u001b[43mopen\u001b[49m\u001b[43m(\u001b[49m\u001b[43murl\u001b[49m\u001b[43m,\u001b[49m\u001b[43m \u001b[49m\u001b[43mdata\u001b[49m\u001b[43m,\u001b[49m\u001b[43m \u001b[49m\u001b[43mtimeout\u001b[49m\u001b[43m)\u001b[49m\n",
      "File \u001b[0;32m/opt/conda/lib/python3.9/urllib/request.py:523\u001b[0m, in \u001b[0;36mOpenerDirector.open\u001b[0;34m(self, fullurl, data, timeout)\u001b[0m\n\u001b[1;32m    521\u001b[0m \u001b[38;5;28;01mfor\u001b[39;00m processor \u001b[38;5;129;01min\u001b[39;00m \u001b[38;5;28mself\u001b[39m\u001b[38;5;241m.\u001b[39mprocess_response\u001b[38;5;241m.\u001b[39mget(protocol, []):\n\u001b[1;32m    522\u001b[0m     meth \u001b[38;5;241m=\u001b[39m \u001b[38;5;28mgetattr\u001b[39m(processor, meth_name)\n\u001b[0;32m--> 523\u001b[0m     response \u001b[38;5;241m=\u001b[39m \u001b[43mmeth\u001b[49m\u001b[43m(\u001b[49m\u001b[43mreq\u001b[49m\u001b[43m,\u001b[49m\u001b[43m \u001b[49m\u001b[43mresponse\u001b[49m\u001b[43m)\u001b[49m\n\u001b[1;32m    525\u001b[0m \u001b[38;5;28;01mreturn\u001b[39;00m response\n",
      "File \u001b[0;32m/opt/conda/lib/python3.9/urllib/request.py:632\u001b[0m, in \u001b[0;36mHTTPErrorProcessor.http_response\u001b[0;34m(self, request, response)\u001b[0m\n\u001b[1;32m    629\u001b[0m \u001b[38;5;66;03m# According to RFC 2616, \"2xx\" code indicates that the client's\u001b[39;00m\n\u001b[1;32m    630\u001b[0m \u001b[38;5;66;03m# request was successfully received, understood, and accepted.\u001b[39;00m\n\u001b[1;32m    631\u001b[0m \u001b[38;5;28;01mif\u001b[39;00m \u001b[38;5;129;01mnot\u001b[39;00m (\u001b[38;5;241m200\u001b[39m \u001b[38;5;241m<\u001b[39m\u001b[38;5;241m=\u001b[39m code \u001b[38;5;241m<\u001b[39m \u001b[38;5;241m300\u001b[39m):\n\u001b[0;32m--> 632\u001b[0m     response \u001b[38;5;241m=\u001b[39m \u001b[38;5;28;43mself\u001b[39;49m\u001b[38;5;241;43m.\u001b[39;49m\u001b[43mparent\u001b[49m\u001b[38;5;241;43m.\u001b[39;49m\u001b[43merror\u001b[49m\u001b[43m(\u001b[49m\n\u001b[1;32m    633\u001b[0m \u001b[43m        \u001b[49m\u001b[38;5;124;43m'\u001b[39;49m\u001b[38;5;124;43mhttp\u001b[39;49m\u001b[38;5;124;43m'\u001b[39;49m\u001b[43m,\u001b[49m\u001b[43m \u001b[49m\u001b[43mrequest\u001b[49m\u001b[43m,\u001b[49m\u001b[43m \u001b[49m\u001b[43mresponse\u001b[49m\u001b[43m,\u001b[49m\u001b[43m \u001b[49m\u001b[43mcode\u001b[49m\u001b[43m,\u001b[49m\u001b[43m \u001b[49m\u001b[43mmsg\u001b[49m\u001b[43m,\u001b[49m\u001b[43m \u001b[49m\u001b[43mhdrs\u001b[49m\u001b[43m)\u001b[49m\n\u001b[1;32m    635\u001b[0m \u001b[38;5;28;01mreturn\u001b[39;00m response\n",
      "File \u001b[0;32m/opt/conda/lib/python3.9/urllib/request.py:561\u001b[0m, in \u001b[0;36mOpenerDirector.error\u001b[0;34m(self, proto, *args)\u001b[0m\n\u001b[1;32m    559\u001b[0m \u001b[38;5;28;01mif\u001b[39;00m http_err:\n\u001b[1;32m    560\u001b[0m     args \u001b[38;5;241m=\u001b[39m (\u001b[38;5;28mdict\u001b[39m, \u001b[38;5;124m'\u001b[39m\u001b[38;5;124mdefault\u001b[39m\u001b[38;5;124m'\u001b[39m, \u001b[38;5;124m'\u001b[39m\u001b[38;5;124mhttp_error_default\u001b[39m\u001b[38;5;124m'\u001b[39m) \u001b[38;5;241m+\u001b[39m orig_args\n\u001b[0;32m--> 561\u001b[0m     \u001b[38;5;28;01mreturn\u001b[39;00m \u001b[38;5;28;43mself\u001b[39;49m\u001b[38;5;241;43m.\u001b[39;49m\u001b[43m_call_chain\u001b[49m\u001b[43m(\u001b[49m\u001b[38;5;241;43m*\u001b[39;49m\u001b[43margs\u001b[49m\u001b[43m)\u001b[49m\n",
      "File \u001b[0;32m/opt/conda/lib/python3.9/urllib/request.py:494\u001b[0m, in \u001b[0;36mOpenerDirector._call_chain\u001b[0;34m(self, chain, kind, meth_name, *args)\u001b[0m\n\u001b[1;32m    492\u001b[0m \u001b[38;5;28;01mfor\u001b[39;00m handler \u001b[38;5;129;01min\u001b[39;00m handlers:\n\u001b[1;32m    493\u001b[0m     func \u001b[38;5;241m=\u001b[39m \u001b[38;5;28mgetattr\u001b[39m(handler, meth_name)\n\u001b[0;32m--> 494\u001b[0m     result \u001b[38;5;241m=\u001b[39m \u001b[43mfunc\u001b[49m\u001b[43m(\u001b[49m\u001b[38;5;241;43m*\u001b[39;49m\u001b[43margs\u001b[49m\u001b[43m)\u001b[49m\n\u001b[1;32m    495\u001b[0m     \u001b[38;5;28;01mif\u001b[39;00m result \u001b[38;5;129;01mis\u001b[39;00m \u001b[38;5;129;01mnot\u001b[39;00m \u001b[38;5;28;01mNone\u001b[39;00m:\n\u001b[1;32m    496\u001b[0m         \u001b[38;5;28;01mreturn\u001b[39;00m result\n",
      "File \u001b[0;32m/opt/conda/lib/python3.9/urllib/request.py:641\u001b[0m, in \u001b[0;36mHTTPDefaultErrorHandler.http_error_default\u001b[0;34m(self, req, fp, code, msg, hdrs)\u001b[0m\n\u001b[1;32m    640\u001b[0m \u001b[38;5;28;01mdef\u001b[39;00m \u001b[38;5;21mhttp_error_default\u001b[39m(\u001b[38;5;28mself\u001b[39m, req, fp, code, msg, hdrs):\n\u001b[0;32m--> 641\u001b[0m     \u001b[38;5;28;01mraise\u001b[39;00m HTTPError(req\u001b[38;5;241m.\u001b[39mfull_url, code, msg, hdrs, fp)\n",
      "\u001b[0;31mHTTPError\u001b[0m: HTTP Error 404: NOT FOUND"
     ]
    }
   ],
   "source": [
    "print(\"sum svm\")\n",
    "def show_results():\n",
    "    data = []\n",
    "    row = []\n",
    "    row = []\n",
    "    for seed in list(np.arange(20)):\n",
    "        row.append(pd.read_csv(\n",
    "        f'http://127.0.0.1:6006/data/plugin/scalars/scalars?tag=train%2Fcumulative_error_step&run=model%3Dmodel.OnlineMoE-backbone%3Dmodules.MLP-lr%3D0.01-width%3D250-layers%3D3-loss%3Dtorch.nn.CrossEntropyLoss-seed%3D{seed}&format=csv'\n",
    "        )['Value'].iloc[-1])\n",
    "    row = np.array(row)\n",
    "    return row.mean(), row.std(), row\n",
    "show_results()"
   ]
  },
  {
   "cell_type": "code",
   "execution_count": 169,
   "id": "87dffbfc-cc95-4ff7-90ae-0afd83e86ed4",
   "metadata": {},
   "outputs": [
    {
     "name": "stdout",
     "output_type": "stream",
     "text": [
      "sum magic\n"
     ]
    },
    {
     "data": {
      "text/plain": [
       "(6278.15,\n",
       " 497.39665006913754,\n",
       " array([6567., 5841., 5903., 6021., 6378., 5953., 6730., 5873., 5765.,\n",
       "        5753., 6236., 6686., 6432., 7870., 6691., 5815., 6673., 5942.,\n",
       "        6049., 6385.]))"
      ]
     },
     "execution_count": 169,
     "metadata": {},
     "output_type": "execute_result"
    }
   ],
   "source": [
    "print(\"sum magic\")\n",
    "def show_results():\n",
    "    data = []\n",
    "    row = []\n",
    "    row = []\n",
    "    for seed in list(np.arange(20)):\n",
    "        row.append(pd.read_csv(\n",
    "        f'http://127.0.0.1:6006/data/plugin/scalars/scalars?tag=train%2Fcumulative_error_step&run=model%3Dmodel.OnlineMoE-backbone%3Dmodules.MLP-lr%3D0.0005-width%3D100-layers%3D3-loss%3Dtorch.nn.CrossEntropyLoss-seed%3D{seed}&format=csv'\n",
    "        )['Value'].iloc[-1])\n",
    "    row = np.array(row)\n",
    "    return row.mean(), row.std(), row\n",
    "show_results()"
   ]
  },
  {
   "cell_type": "code",
   "execution_count": 170,
   "id": "57e2ec3f-e3c2-45fe-b8a1-f5296631de25",
   "metadata": {},
   "outputs": [
    {
     "name": "stdout",
     "output_type": "stream",
     "text": [
      "sum a8a\n"
     ]
    },
    {
     "data": {
      "text/plain": [
       "(5942.05,\n",
       " 48.63895044097888,\n",
       " array([5967., 5956., 5885., 5949., 5838., 5953., 5998., 6011., 5955.,\n",
       "        5899., 5920., 5963., 5881., 5907., 5989., 5988., 6021., 5877.,\n",
       "        5913., 5971.]))"
      ]
     },
     "execution_count": 170,
     "metadata": {},
     "output_type": "execute_result"
    }
   ],
   "source": [
    "print(\"sum a8a\")\n",
    "def show_results():\n",
    "    data = []\n",
    "    row = []\n",
    "    row = []\n",
    "    for seed in list(np.arange(20)):\n",
    "        row.append(pd.read_csv(\n",
    "        f'http://127.0.0.1:6006/data/plugin/scalars/scalars?tag=train%2Fcumulative_error_step&run=model%3Dmodel.OnlineMoE-backbone%3Dmodules.MLP-lr%3D0.01-width%3D250-layers%3D3-loss%3Dtorch.nn.CrossEntropyLoss-seed%3D{seed}&format=csv'\n",
    "        )['Value'].iloc[-1])\n",
    "    row = np.array(row)\n",
    "    return row.mean(), row.std(), row\n",
    "show_results()"
   ]
  },
  {
   "cell_type": "code",
   "execution_count": null,
   "id": "1880bf96-e307-47e0-ad6f-9e098d12f4d5",
   "metadata": {},
   "outputs": [],
   "source": []
  },
  {
   "cell_type": "code",
   "execution_count": null,
   "id": "d539ab2f-e09c-4bae-8706-de387e11308d",
   "metadata": {},
   "outputs": [],
   "source": []
  },
  {
   "cell_type": "code",
   "execution_count": null,
   "id": "61cfb4f3-6862-4f11-81b6-171eb1332077",
   "metadata": {},
   "outputs": [],
   "source": []
  },
  {
   "cell_type": "code",
   "execution_count": null,
   "id": "b422e9ea-db99-4553-90e2-21da96626165",
   "metadata": {},
   "outputs": [],
   "source": []
  },
  {
   "cell_type": "code",
   "execution_count": 145,
   "id": "5a831cd9-eea7-4633-aa53-059b03971970",
   "metadata": {},
   "outputs": [
    {
     "name": "stdout",
     "output_type": "stream",
     "text": [
      "common backprop results\n"
     ]
    }
   ],
   "source": [
    "print(\"common backprop results\")"
   ]
  },
  {
   "cell_type": "code",
   "execution_count": 171,
   "id": "a22e9360-d381-4975-b002-760bdc2a9dd4",
   "metadata": {},
   "outputs": [
    {
     "name": "stdout",
     "output_type": "stream",
     "text": [
      "german\n"
     ]
    },
    {
     "data": {
      "text/plain": [
       "(299.75,\n",
       " 8.44911237941596,\n",
       " array([305., 307., 293., 290., 304., 312., 305., 296., 299., 308., 287.,\n",
       "        307., 301., 311., 295., 292., 310., 281., 299., 293.]))"
      ]
     },
     "execution_count": 171,
     "metadata": {},
     "output_type": "execute_result"
    }
   ],
   "source": [
    "print(\"german\")\n",
    "def show_results():\n",
    "    data = []\n",
    "    row = []\n",
    "    row = []\n",
    "    for seed in list(np.arange(20)):\n",
    "        row.append(pd.read_csv(\n",
    "        f'http://127.0.0.1:6006/data/plugin/scalars/scalars?tag=train%2Fcumulative_error_step&run=model%3Dmodel.OnlineDelta-backbone%3Dmodules.StackofExperts-lr%3D0.001-width%3D250-layers%3D3-loss%3Dtorch.nn.CrossEntropyLoss-seed%3D{seed}&format=csv'\n",
    "        )['Value'].iloc[-1])\n",
    "    row = np.array(row)\n",
    "    return row.mean(), row.std(), row\n",
    "show_results()"
   ]
  },
  {
   "cell_type": "code",
   "execution_count": 172,
   "id": "12c4c4c9-1c5d-4136-b167-ef8794fa283a",
   "metadata": {},
   "outputs": [
    {
     "name": "stdout",
     "output_type": "stream",
     "text": [
      "svm\n"
     ]
    },
    {
     "data": {
      "text/plain": [
       "(298.45,\n",
       " 3.3087006513131403,\n",
       " array([298., 297., 298., 300., 296., 298., 299., 296., 300., 299., 297.,\n",
       "        296., 300., 295., 297., 296., 311., 300., 296., 300.]))"
      ]
     },
     "execution_count": 172,
     "metadata": {},
     "output_type": "execute_result"
    }
   ],
   "source": [
    "print(\"svm\")\n",
    "def show_results():\n",
    "    data = []\n",
    "    row = []\n",
    "    row = []\n",
    "    for seed in list(np.arange(20)):\n",
    "        row.append(pd.read_csv(\n",
    "        f'http://127.0.0.1:6006/data/plugin/scalars/scalars?tag=train%2Fcumulative_error_step&run=model%3Dmodel.OnlineDelta-backbone%3Dmodules.StackofExperts-lr%3D0.001-width%3D250-layers%3D3-loss%3Dtorch.nn.CrossEntropyLoss-seed%3D{seed}&format=csv'\n",
    "        )['Value'].iloc[-1])\n",
    "    row = np.array(row)\n",
    "    return row.mean(), row.std(), row\n",
    "show_results()"
   ]
  },
  {
   "cell_type": "code",
   "execution_count": 173,
   "id": "b1868e64-efc0-4740-bb49-dee426272a2b",
   "metadata": {},
   "outputs": [
    {
     "name": "stdout",
     "output_type": "stream",
     "text": [
      "magic\n"
     ]
    },
    {
     "data": {
      "text/plain": [
       "(5536.65,\n",
       " 100.76471356581132,\n",
       " array([5539., 5622., 5632., 5616., 5497., 5501., 5505., 5478., 5552.,\n",
       "        5395., 5808., 5612., 5660., 5487., 5425., 5507., 5366., 5429.,\n",
       "        5525., 5577.]))"
      ]
     },
     "execution_count": 173,
     "metadata": {},
     "output_type": "execute_result"
    }
   ],
   "source": [
    "print(\"magic\")\n",
    "def show_results():\n",
    "    data = []\n",
    "    row = []\n",
    "    row = []\n",
    "    for seed in list(np.arange(20)):\n",
    "        row.append(pd.read_csv(\n",
    "        f'http://127.0.0.1:6006/data/plugin/scalars/scalars?tag=train%2Fcumulative_error_step&run=model%3Dmodel.OnlineDelta-backbone%3Dmodules.StackofExperts-lr%3D0.0005-width%3D100-layers%3D3-loss%3Dtorch.nn.CrossEntropyLoss-seed%3D{seed}&format=csv'\n",
    "        )['Value'].iloc[-1])\n",
    "    row = np.array(row)\n",
    "    return row.mean(), row.std(), row\n",
    "show_results()"
   ]
  },
  {
   "cell_type": "code",
   "execution_count": 174,
   "id": "e7e3c22a-4533-4c82-8557-2a4d5a221690",
   "metadata": {},
   "outputs": [
    {
     "name": "stdout",
     "output_type": "stream",
     "text": [
      "a8a\n"
     ]
    },
    {
     "data": {
      "text/plain": [
       "(5691.6,\n",
       " 40.71535336946003,\n",
       " array([5709., 5735., 5670., 5679., 5623., 5634., 5759., 5753., 5672.,\n",
       "        5624., 5707., 5740., 5634., 5698., 5701., 5690., 5727., 5688.,\n",
       "        5724., 5665.]))"
      ]
     },
     "execution_count": 174,
     "metadata": {},
     "output_type": "execute_result"
    }
   ],
   "source": [
    "print(\"a8a\")\n",
    "def show_results():\n",
    "    data = []\n",
    "    row = []\n",
    "    row = []\n",
    "    for seed in list(np.arange(20)):\n",
    "        row.append(pd.read_csv(\n",
    "        f'http://127.0.0.1:6006/data/plugin/scalars/scalars?tag=train%2Fcumulative_error_step&run=model%3Dmodel.OnlineDelta-backbone%3Dmodules.StackofExperts-lr%3D0.01-width%3D250-layers%3D3-loss%3Dtorch.nn.CrossEntropyLoss-seed%3D{seed}&format=csv'\n",
    "        )['Value'].iloc[-1])\n",
    "    row = np.array(row)\n",
    "    return row.mean(), row.std(), row\n",
    "show_results()"
   ]
  },
  {
   "cell_type": "code",
   "execution_count": 159,
   "id": "86320390-3a45-4023-9fc9-d25d586bca8a",
   "metadata": {},
   "outputs": [
    {
     "name": "stdout",
     "output_type": "stream",
     "text": [
      "SUSY\n"
     ]
    },
    {
     "data": {
      "text/html": [
       "<div>\n",
       "<style scoped>\n",
       "    .dataframe tbody tr th:only-of-type {\n",
       "        vertical-align: middle;\n",
       "    }\n",
       "\n",
       "    .dataframe tbody tr th {\n",
       "        vertical-align: top;\n",
       "    }\n",
       "\n",
       "    .dataframe thead th {\n",
       "        text-align: right;\n",
       "    }\n",
       "</style>\n",
       "<table border=\"1\" class=\"dataframe\">\n",
       "  <thead>\n",
       "    <tr style=\"text-align: right;\">\n",
       "      <th></th>\n",
       "      <th>average error</th>\n",
       "      <th>error std</th>\n",
       "    </tr>\n",
       "    <tr>\n",
       "      <th>p</th>\n",
       "      <th></th>\n",
       "      <th></th>\n",
       "    </tr>\n",
       "  </thead>\n",
       "  <tbody>\n",
       "    <tr>\n",
       "      <th>0.01</th>\n",
       "      <td>285258.000000</td>\n",
       "      <td>71.907348</td>\n",
       "    </tr>\n",
       "    <tr>\n",
       "      <th>0.05</th>\n",
       "      <td>283295.333333</td>\n",
       "      <td>49.378358</td>\n",
       "    </tr>\n",
       "    <tr>\n",
       "      <th>0.10</th>\n",
       "      <td>280050.000000</td>\n",
       "      <td>118.819190</td>\n",
       "    </tr>\n",
       "    <tr>\n",
       "      <th>0.20</th>\n",
       "      <td>274019.000000</td>\n",
       "      <td>41.085277</td>\n",
       "    </tr>\n",
       "    <tr>\n",
       "      <th>0.30</th>\n",
       "      <td>267954.000000</td>\n",
       "      <td>47.377913</td>\n",
       "    </tr>\n",
       "    <tr>\n",
       "      <th>0.40</th>\n",
       "      <td>261724.666667</td>\n",
       "      <td>39.718454</td>\n",
       "    </tr>\n",
       "    <tr>\n",
       "      <th>0.50</th>\n",
       "      <td>255032.000000</td>\n",
       "      <td>45.701933</td>\n",
       "    </tr>\n",
       "    <tr>\n",
       "      <th>0.60</th>\n",
       "      <td>248258.333333</td>\n",
       "      <td>101.686883</td>\n",
       "    </tr>\n",
       "    <tr>\n",
       "      <th>0.70</th>\n",
       "      <td>241336.666667</td>\n",
       "      <td>69.877671</td>\n",
       "    </tr>\n",
       "    <tr>\n",
       "      <th>0.80</th>\n",
       "      <td>234303.666667</td>\n",
       "      <td>108.321538</td>\n",
       "    </tr>\n",
       "    <tr>\n",
       "      <th>0.90</th>\n",
       "      <td>226514.666667</td>\n",
       "      <td>197.825400</td>\n",
       "    </tr>\n",
       "    <tr>\n",
       "      <th>0.95</th>\n",
       "      <td>222146.666667</td>\n",
       "      <td>56.981478</td>\n",
       "    </tr>\n",
       "    <tr>\n",
       "      <th>0.99</th>\n",
       "      <td>217394.666667</td>\n",
       "      <td>110.058570</td>\n",
       "    </tr>\n",
       "  </tbody>\n",
       "</table>\n",
       "</div>"
      ],
      "text/plain": [
       "      average error   error std\n",
       "p                              \n",
       "0.01  285258.000000   71.907348\n",
       "0.05  283295.333333   49.378358\n",
       "0.10  280050.000000  118.819190\n",
       "0.20  274019.000000   41.085277\n",
       "0.30  267954.000000   47.377913\n",
       "0.40  261724.666667   39.718454\n",
       "0.50  255032.000000   45.701933\n",
       "0.60  248258.333333  101.686883\n",
       "0.70  241336.666667   69.877671\n",
       "0.80  234303.666667  108.321538\n",
       "0.90  226514.666667  197.825400\n",
       "0.95  222146.666667   56.981478\n",
       "0.99  217394.666667  110.058570"
      ]
     },
     "execution_count": 159,
     "metadata": {},
     "output_type": "execute_result"
    }
   ],
   "source": [
    "print(\"SUSY\")\n",
    "def show_results():\n",
    "    vals = [0.01, 0.05, 0.1, 0.2, 0.3, 0.4, 0.5, 0.6, 0.7, 0.8, 0.9, 0.95, 0.99]\n",
    "    data = []\n",
    "    row = []\n",
    "    for p_val in vals:\n",
    "        row = []\n",
    "        for seed in [0, 1, 2]:\n",
    "            row.append(pd.read_csv(\n",
    "                f'http://127.0.0.1:6006/data/plugin/scalars/scalars?tag=train%2Fcumulative_error_step&run=model%3Dmodel.OnlineDelta-backbone%3Dmodules.StackofExperts-lr%3D0.05-width%3D250-layers%3D3-loss%3Dtorch.nn.CrossEntropyLoss-seed%3D{seed}-p{p_val}&format=csv'\n",
    "            )['Value'].iloc[-1])\n",
    "        data.append([p_val, np.array(row).mean(), np.array(row).std()])\n",
    "    results = pd.DataFrame(data, columns=[\"p\", \"average error\", \"error std\"])\n",
    "    results = results.set_index(\"p\") \n",
    "    return results\n",
    "show_results()   "
   ]
  },
  {
   "cell_type": "code",
   "execution_count": 160,
   "id": "86395e39-1cd9-4f19-bab0-53401a0f973e",
   "metadata": {},
   "outputs": [
    {
     "name": "stdout",
     "output_type": "stream",
     "text": [
      "HIGGS\n"
     ]
    },
    {
     "data": {
      "text/html": [
       "<div>\n",
       "<style scoped>\n",
       "    .dataframe tbody tr th:only-of-type {\n",
       "        vertical-align: middle;\n",
       "    }\n",
       "\n",
       "    .dataframe tbody tr th {\n",
       "        vertical-align: top;\n",
       "    }\n",
       "\n",
       "    .dataframe thead th {\n",
       "        text-align: right;\n",
       "    }\n",
       "</style>\n",
       "<table border=\"1\" class=\"dataframe\">\n",
       "  <thead>\n",
       "    <tr style=\"text-align: right;\">\n",
       "      <th></th>\n",
       "      <th>average error</th>\n",
       "      <th>error std</th>\n",
       "    </tr>\n",
       "    <tr>\n",
       "      <th>p</th>\n",
       "      <th></th>\n",
       "      <th></th>\n",
       "    </tr>\n",
       "  </thead>\n",
       "  <tbody>\n",
       "    <tr>\n",
       "      <th>0.01</th>\n",
       "      <td>442795.666667</td>\n",
       "      <td>195.124462</td>\n",
       "    </tr>\n",
       "    <tr>\n",
       "      <th>0.05</th>\n",
       "      <td>442732.000000</td>\n",
       "      <td>150.481450</td>\n",
       "    </tr>\n",
       "    <tr>\n",
       "      <th>0.10</th>\n",
       "      <td>441958.666667</td>\n",
       "      <td>15.797327</td>\n",
       "    </tr>\n",
       "    <tr>\n",
       "      <th>0.20</th>\n",
       "      <td>439956.000000</td>\n",
       "      <td>147.352186</td>\n",
       "    </tr>\n",
       "    <tr>\n",
       "      <th>0.30</th>\n",
       "      <td>437475.000000</td>\n",
       "      <td>73.516438</td>\n",
       "    </tr>\n",
       "    <tr>\n",
       "      <th>0.40</th>\n",
       "      <td>434933.000000</td>\n",
       "      <td>332.628922</td>\n",
       "    </tr>\n",
       "    <tr>\n",
       "      <th>0.50</th>\n",
       "      <td>430324.666667</td>\n",
       "      <td>193.909486</td>\n",
       "    </tr>\n",
       "    <tr>\n",
       "      <th>0.60</th>\n",
       "      <td>425399.666667</td>\n",
       "      <td>178.447627</td>\n",
       "    </tr>\n",
       "    <tr>\n",
       "      <th>0.70</th>\n",
       "      <td>420455.666667</td>\n",
       "      <td>484.826659</td>\n",
       "    </tr>\n",
       "    <tr>\n",
       "      <th>0.80</th>\n",
       "      <td>411760.000000</td>\n",
       "      <td>106.210483</td>\n",
       "    </tr>\n",
       "    <tr>\n",
       "      <th>0.90</th>\n",
       "      <td>401437.666667</td>\n",
       "      <td>517.139783</td>\n",
       "    </tr>\n",
       "    <tr>\n",
       "      <th>0.95</th>\n",
       "      <td>394153.333333</td>\n",
       "      <td>565.184532</td>\n",
       "    </tr>\n",
       "    <tr>\n",
       "      <th>0.99</th>\n",
       "      <td>386681.333333</td>\n",
       "      <td>133.092282</td>\n",
       "    </tr>\n",
       "  </tbody>\n",
       "</table>\n",
       "</div>"
      ],
      "text/plain": [
       "      average error   error std\n",
       "p                              \n",
       "0.01  442795.666667  195.124462\n",
       "0.05  442732.000000  150.481450\n",
       "0.10  441958.666667   15.797327\n",
       "0.20  439956.000000  147.352186\n",
       "0.30  437475.000000   73.516438\n",
       "0.40  434933.000000  332.628922\n",
       "0.50  430324.666667  193.909486\n",
       "0.60  425399.666667  178.447627\n",
       "0.70  420455.666667  484.826659\n",
       "0.80  411760.000000  106.210483\n",
       "0.90  401437.666667  517.139783\n",
       "0.95  394153.333333  565.184532\n",
       "0.99  386681.333333  133.092282"
      ]
     },
     "execution_count": 160,
     "metadata": {},
     "output_type": "execute_result"
    }
   ],
   "source": [
    "print(\"HIGGS\")\n",
    "def show_results():\n",
    "    vals = [0.01, 0.05, 0.1, 0.2, 0.3, 0.4, 0.5, 0.6, 0.7, 0.8, 0.9, 0.95, 0.99]\n",
    "    data = []\n",
    "    row = []\n",
    "    for p_val in vals:\n",
    "        row = []\n",
    "        for seed in [0, 1, 2]:\n",
    "            row.append(pd.read_csv(\n",
    "                f'http://127.0.0.1:6006/data/plugin/scalars/scalars?tag=train%2Fcumulative_error_step&run=model%3Dmodel.OnlineDelta-backbone%3Dmodules.StackofExperts-lr%3D0.05-width%3D250-layers%3D3-loss%3Dtorch.nn.CrossEntropyLoss-seed%3D{seed}-p{p_val}&format=csv'\n",
    "            )['Value'].iloc[-1])\n",
    "        data.append([p_val, np.array(row).mean(), np.array(row).std()])\n",
    "    results = pd.DataFrame(data, columns=[\"p\", \"average error\", \"error std\"])\n",
    "    results = results.set_index(\"p\") \n",
    "    return results\n",
    "show_results()   "
   ]
  },
  {
   "cell_type": "code",
   "execution_count": null,
   "id": "caa03566-3079-4d79-b6f2-2d4fd54a320c",
   "metadata": {},
   "outputs": [],
   "source": []
  }
 ],
 "metadata": {
  "kernelspec": {
   "display_name": "Python 3 (ipykernel)",
   "language": "python",
   "name": "python3"
  },
  "language_info": {
   "codemirror_mode": {
    "name": "ipython",
    "version": 3
   },
   "file_extension": ".py",
   "mimetype": "text/x-python",
   "name": "python",
   "nbconvert_exporter": "python",
   "pygments_lexer": "ipython3",
   "version": "3.9.12"
  }
 },
 "nbformat": 4,
 "nbformat_minor": 5
}
